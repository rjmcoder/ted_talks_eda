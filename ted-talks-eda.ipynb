{
 "cells": [
  {
   "cell_type": "code",
   "execution_count": 1,
   "metadata": {
    "_cell_guid": "b1076dfc-b9ad-4769-8c92-a6c4dae69d19",
    "_uuid": "8f2839f25d086af736a60e9eeb907d3b93b6e0e5",
    "papermill": {
     "duration": 11.427998,
     "end_time": "2020-10-22T23:48:33.367832",
     "exception": false,
     "start_time": "2020-10-22T23:48:21.939834",
     "status": "completed"
    },
    "tags": []
   },
   "outputs": [
    {
     "name": "stdout",
     "output_type": "stream",
     "text": [
      "Collecting seaborn\r\n",
      "  Downloading seaborn-0.11.0-py3-none-any.whl (283 kB)\r\n",
      "\u001b[K     |████████████████████████████████| 283 kB 587 kB/s \r\n",
      "\u001b[?25hRequirement already satisfied, skipping upgrade: matplotlib>=2.2 in /opt/conda/lib/python3.7/site-packages (from seaborn) (3.1.3)\r\n",
      "Requirement already satisfied, skipping upgrade: numpy>=1.15 in /opt/conda/lib/python3.7/site-packages (from seaborn) (1.18.1)\r\n",
      "Requirement already satisfied, skipping upgrade: pandas>=0.23 in /opt/conda/lib/python3.7/site-packages (from seaborn) (1.0.1)\r\n",
      "Requirement already satisfied, skipping upgrade: scipy>=1.0 in /opt/conda/lib/python3.7/site-packages (from seaborn) (1.4.1)\r\n",
      "Requirement already satisfied, skipping upgrade: pyparsing!=2.0.4,!=2.1.2,!=2.1.6,>=2.0.1 in /opt/conda/lib/python3.7/site-packages (from matplotlib>=2.2->seaborn) (2.4.6)\r\n",
      "Requirement already satisfied, skipping upgrade: kiwisolver>=1.0.1 in /opt/conda/lib/python3.7/site-packages (from matplotlib>=2.2->seaborn) (1.1.0)\r\n",
      "Requirement already satisfied, skipping upgrade: cycler>=0.10 in /opt/conda/lib/python3.7/site-packages (from matplotlib>=2.2->seaborn) (0.10.0)\r\n",
      "Requirement already satisfied, skipping upgrade: python-dateutil>=2.1 in /opt/conda/lib/python3.7/site-packages (from matplotlib>=2.2->seaborn) (2.8.1)\r\n",
      "Requirement already satisfied, skipping upgrade: pytz>=2017.2 in /opt/conda/lib/python3.7/site-packages (from pandas>=0.23->seaborn) (2019.3)\r\n",
      "Requirement already satisfied, skipping upgrade: setuptools in /opt/conda/lib/python3.7/site-packages (from kiwisolver>=1.0.1->matplotlib>=2.2->seaborn) (45.2.0.post20200209)\r\n",
      "Requirement already satisfied, skipping upgrade: six in /opt/conda/lib/python3.7/site-packages (from cycler>=0.10->matplotlib>=2.2->seaborn) (1.14.0)\r\n",
      "\u001b[31mERROR: hypertools 0.6.2 has requirement scikit-learn<0.22,>=0.19.1, but you'll have scikit-learn 0.22.2.post1 which is incompatible.\u001b[0m\r\n",
      "\u001b[31mERROR: datalab 1.1.5 has requirement pandas-profiling==1.4.0, but you'll have pandas-profiling 2.4.0 which is incompatible.\u001b[0m\r\n",
      "Installing collected packages: seaborn\r\n",
      "  Attempting uninstall: seaborn\r\n",
      "    Found existing installation: seaborn 0.10.0\r\n",
      "    Uninstalling seaborn-0.10.0:\r\n",
      "      Successfully uninstalled seaborn-0.10.0\r\n",
      "Successfully installed seaborn-0.11.0\r\n",
      "/kaggle/input/ted-talks/ted_main.csv\n",
      "/kaggle/input/ted-talks/transcripts.csv\n",
      "Seaborn version used is 0.11.0\n",
      "Pandas version used is 1.0.1\n"
     ]
    }
   ],
   "source": [
    "!pip install seaborn --upgrade\n",
    "\n",
    "import numpy as np # linear algebra\n",
    "import pandas as pd # data processing, CSV file I/O (e.g. pd.read_csv)\n",
    "from matplotlib import pyplot as plt\n",
    "import seaborn as sns\n",
    "\n",
    "import os\n",
    "for dirname, _, filenames in os.walk('/kaggle/input'):\n",
    "    for filename in filenames:\n",
    "        print(os.path.join(dirname, filename))\n",
    "\n",
    "print(\"Seaborn version used is {}\".format(sns.__version__))\n",
    "print(\"Pandas version used is {}\".format(pd.__version__))\n"
   ]
  },
  {
   "cell_type": "markdown",
   "metadata": {
    "papermill": {
     "duration": 0.039882,
     "end_time": "2020-10-22T23:48:33.450275",
     "exception": false,
     "start_time": "2020-10-22T23:48:33.410393",
     "status": "completed"
    },
    "tags": []
   },
   "source": [
    "<h2>1: Quick look at the data</h2>"
   ]
  },
  {
   "cell_type": "code",
   "execution_count": 2,
   "metadata": {
    "papermill": {
     "duration": 0.263231,
     "end_time": "2020-10-22T23:48:33.753975",
     "exception": false,
     "start_time": "2020-10-22T23:48:33.490744",
     "status": "completed"
    },
    "tags": []
   },
   "outputs": [
    {
     "data": {
      "text/html": [
       "<div>\n",
       "<style scoped>\n",
       "    .dataframe tbody tr th:only-of-type {\n",
       "        vertical-align: middle;\n",
       "    }\n",
       "\n",
       "    .dataframe tbody tr th {\n",
       "        vertical-align: top;\n",
       "    }\n",
       "\n",
       "    .dataframe thead th {\n",
       "        text-align: right;\n",
       "    }\n",
       "</style>\n",
       "<table border=\"1\" class=\"dataframe\">\n",
       "  <thead>\n",
       "    <tr style=\"text-align: right;\">\n",
       "      <th></th>\n",
       "      <th>comments</th>\n",
       "      <th>description</th>\n",
       "      <th>duration</th>\n",
       "      <th>event</th>\n",
       "      <th>film_date</th>\n",
       "      <th>languages</th>\n",
       "      <th>main_speaker</th>\n",
       "      <th>name</th>\n",
       "      <th>num_speaker</th>\n",
       "      <th>published_date</th>\n",
       "      <th>ratings</th>\n",
       "      <th>related_talks</th>\n",
       "      <th>speaker_occupation</th>\n",
       "      <th>tags</th>\n",
       "      <th>title</th>\n",
       "      <th>url</th>\n",
       "      <th>views</th>\n",
       "    </tr>\n",
       "  </thead>\n",
       "  <tbody>\n",
       "    <tr>\n",
       "      <th>0</th>\n",
       "      <td>4553</td>\n",
       "      <td>Sir Ken Robinson makes an entertaining and pro...</td>\n",
       "      <td>1164</td>\n",
       "      <td>TED2006</td>\n",
       "      <td>1140825600</td>\n",
       "      <td>60</td>\n",
       "      <td>Ken Robinson</td>\n",
       "      <td>Ken Robinson: Do schools kill creativity?</td>\n",
       "      <td>1</td>\n",
       "      <td>1151367060</td>\n",
       "      <td>[{'id': 7, 'name': 'Funny', 'count': 19645}, {...</td>\n",
       "      <td>[{'id': 865, 'hero': 'https://pe.tedcdn.com/im...</td>\n",
       "      <td>Author/educator</td>\n",
       "      <td>['children', 'creativity', 'culture', 'dance',...</td>\n",
       "      <td>Do schools kill creativity?</td>\n",
       "      <td>https://www.ted.com/talks/ken_robinson_says_sc...</td>\n",
       "      <td>47227110</td>\n",
       "    </tr>\n",
       "    <tr>\n",
       "      <th>1</th>\n",
       "      <td>265</td>\n",
       "      <td>With the same humor and humanity he exuded in ...</td>\n",
       "      <td>977</td>\n",
       "      <td>TED2006</td>\n",
       "      <td>1140825600</td>\n",
       "      <td>43</td>\n",
       "      <td>Al Gore</td>\n",
       "      <td>Al Gore: Averting the climate crisis</td>\n",
       "      <td>1</td>\n",
       "      <td>1151367060</td>\n",
       "      <td>[{'id': 7, 'name': 'Funny', 'count': 544}, {'i...</td>\n",
       "      <td>[{'id': 243, 'hero': 'https://pe.tedcdn.com/im...</td>\n",
       "      <td>Climate advocate</td>\n",
       "      <td>['alternative energy', 'cars', 'climate change...</td>\n",
       "      <td>Averting the climate crisis</td>\n",
       "      <td>https://www.ted.com/talks/al_gore_on_averting_...</td>\n",
       "      <td>3200520</td>\n",
       "    </tr>\n",
       "    <tr>\n",
       "      <th>2</th>\n",
       "      <td>124</td>\n",
       "      <td>New York Times columnist David Pogue takes aim...</td>\n",
       "      <td>1286</td>\n",
       "      <td>TED2006</td>\n",
       "      <td>1140739200</td>\n",
       "      <td>26</td>\n",
       "      <td>David Pogue</td>\n",
       "      <td>David Pogue: Simplicity sells</td>\n",
       "      <td>1</td>\n",
       "      <td>1151367060</td>\n",
       "      <td>[{'id': 7, 'name': 'Funny', 'count': 964}, {'i...</td>\n",
       "      <td>[{'id': 1725, 'hero': 'https://pe.tedcdn.com/i...</td>\n",
       "      <td>Technology columnist</td>\n",
       "      <td>['computers', 'entertainment', 'interface desi...</td>\n",
       "      <td>Simplicity sells</td>\n",
       "      <td>https://www.ted.com/talks/david_pogue_says_sim...</td>\n",
       "      <td>1636292</td>\n",
       "    </tr>\n",
       "    <tr>\n",
       "      <th>3</th>\n",
       "      <td>200</td>\n",
       "      <td>In an emotionally charged talk, MacArthur-winn...</td>\n",
       "      <td>1116</td>\n",
       "      <td>TED2006</td>\n",
       "      <td>1140912000</td>\n",
       "      <td>35</td>\n",
       "      <td>Majora Carter</td>\n",
       "      <td>Majora Carter: Greening the ghetto</td>\n",
       "      <td>1</td>\n",
       "      <td>1151367060</td>\n",
       "      <td>[{'id': 3, 'name': 'Courageous', 'count': 760}...</td>\n",
       "      <td>[{'id': 1041, 'hero': 'https://pe.tedcdn.com/i...</td>\n",
       "      <td>Activist for environmental justice</td>\n",
       "      <td>['MacArthur grant', 'activism', 'business', 'c...</td>\n",
       "      <td>Greening the ghetto</td>\n",
       "      <td>https://www.ted.com/talks/majora_carter_s_tale...</td>\n",
       "      <td>1697550</td>\n",
       "    </tr>\n",
       "    <tr>\n",
       "      <th>4</th>\n",
       "      <td>593</td>\n",
       "      <td>You've never seen data presented like this. Wi...</td>\n",
       "      <td>1190</td>\n",
       "      <td>TED2006</td>\n",
       "      <td>1140566400</td>\n",
       "      <td>48</td>\n",
       "      <td>Hans Rosling</td>\n",
       "      <td>Hans Rosling: The best stats you've ever seen</td>\n",
       "      <td>1</td>\n",
       "      <td>1151440680</td>\n",
       "      <td>[{'id': 9, 'name': 'Ingenious', 'count': 3202}...</td>\n",
       "      <td>[{'id': 2056, 'hero': 'https://pe.tedcdn.com/i...</td>\n",
       "      <td>Global health expert; data visionary</td>\n",
       "      <td>['Africa', 'Asia', 'Google', 'demo', 'economic...</td>\n",
       "      <td>The best stats you've ever seen</td>\n",
       "      <td>https://www.ted.com/talks/hans_rosling_shows_t...</td>\n",
       "      <td>12005869</td>\n",
       "    </tr>\n",
       "  </tbody>\n",
       "</table>\n",
       "</div>"
      ],
      "text/plain": [
       "   comments                                        description  duration  \\\n",
       "0      4553  Sir Ken Robinson makes an entertaining and pro...      1164   \n",
       "1       265  With the same humor and humanity he exuded in ...       977   \n",
       "2       124  New York Times columnist David Pogue takes aim...      1286   \n",
       "3       200  In an emotionally charged talk, MacArthur-winn...      1116   \n",
       "4       593  You've never seen data presented like this. Wi...      1190   \n",
       "\n",
       "     event   film_date  languages   main_speaker  \\\n",
       "0  TED2006  1140825600         60   Ken Robinson   \n",
       "1  TED2006  1140825600         43        Al Gore   \n",
       "2  TED2006  1140739200         26    David Pogue   \n",
       "3  TED2006  1140912000         35  Majora Carter   \n",
       "4  TED2006  1140566400         48   Hans Rosling   \n",
       "\n",
       "                                            name  num_speaker  published_date  \\\n",
       "0      Ken Robinson: Do schools kill creativity?            1      1151367060   \n",
       "1           Al Gore: Averting the climate crisis            1      1151367060   \n",
       "2                  David Pogue: Simplicity sells            1      1151367060   \n",
       "3             Majora Carter: Greening the ghetto            1      1151367060   \n",
       "4  Hans Rosling: The best stats you've ever seen            1      1151440680   \n",
       "\n",
       "                                             ratings  \\\n",
       "0  [{'id': 7, 'name': 'Funny', 'count': 19645}, {...   \n",
       "1  [{'id': 7, 'name': 'Funny', 'count': 544}, {'i...   \n",
       "2  [{'id': 7, 'name': 'Funny', 'count': 964}, {'i...   \n",
       "3  [{'id': 3, 'name': 'Courageous', 'count': 760}...   \n",
       "4  [{'id': 9, 'name': 'Ingenious', 'count': 3202}...   \n",
       "\n",
       "                                       related_talks  \\\n",
       "0  [{'id': 865, 'hero': 'https://pe.tedcdn.com/im...   \n",
       "1  [{'id': 243, 'hero': 'https://pe.tedcdn.com/im...   \n",
       "2  [{'id': 1725, 'hero': 'https://pe.tedcdn.com/i...   \n",
       "3  [{'id': 1041, 'hero': 'https://pe.tedcdn.com/i...   \n",
       "4  [{'id': 2056, 'hero': 'https://pe.tedcdn.com/i...   \n",
       "\n",
       "                     speaker_occupation  \\\n",
       "0                       Author/educator   \n",
       "1                      Climate advocate   \n",
       "2                  Technology columnist   \n",
       "3    Activist for environmental justice   \n",
       "4  Global health expert; data visionary   \n",
       "\n",
       "                                                tags  \\\n",
       "0  ['children', 'creativity', 'culture', 'dance',...   \n",
       "1  ['alternative energy', 'cars', 'climate change...   \n",
       "2  ['computers', 'entertainment', 'interface desi...   \n",
       "3  ['MacArthur grant', 'activism', 'business', 'c...   \n",
       "4  ['Africa', 'Asia', 'Google', 'demo', 'economic...   \n",
       "\n",
       "                             title  \\\n",
       "0      Do schools kill creativity?   \n",
       "1      Averting the climate crisis   \n",
       "2                 Simplicity sells   \n",
       "3              Greening the ghetto   \n",
       "4  The best stats you've ever seen   \n",
       "\n",
       "                                                 url     views  \n",
       "0  https://www.ted.com/talks/ken_robinson_says_sc...  47227110  \n",
       "1  https://www.ted.com/talks/al_gore_on_averting_...   3200520  \n",
       "2  https://www.ted.com/talks/david_pogue_says_sim...   1636292  \n",
       "3  https://www.ted.com/talks/majora_carter_s_tale...   1697550  \n",
       "4  https://www.ted.com/talks/hans_rosling_shows_t...  12005869  "
      ]
     },
     "execution_count": 2,
     "metadata": {},
     "output_type": "execute_result"
    }
   ],
   "source": [
    "ted_data = pd.read_csv(\"/kaggle/input/ted-talks/ted_main.csv\")\n",
    "ted_data.head()"
   ]
  },
  {
   "cell_type": "markdown",
   "metadata": {
    "papermill": {
     "duration": 0.040731,
     "end_time": "2020-10-22T23:48:33.836219",
     "exception": false,
     "start_time": "2020-10-22T23:48:33.795488",
     "status": "completed"
    },
    "tags": []
   },
   "source": [
    "<h2>Available features:</h2>\n",
    "\n",
    "* <b>comments:</b> Number of comments on the talk.\n",
    "* <b>description:</b> A quick description of the talk.\n",
    "* <b>duration:</b> Duration of the talk in seconds.\n",
    "* <b>event:</b> TED or TEDx, and the year the evnt took place.\n",
    "* <b>film_date:</b> UNIX timestamp when the talk was filmed.\n",
    "* <b>lanuages:</b> Number of languages the talk is available in.\n",
    "* <b>main_speaker:</b> Number of comments on the talk.\n",
    "* <b>name:</b> Name of the speaker and the title of the talk.\n",
    "* <b>num_speaker:</b> Number of speakers on the talk.\n",
    "* <b>published_date:</b> UNIX timestamp when the talk was published on ted.com.\n",
    "* <b>ratings:</b> A dictionary of ratings like funny, confusing, etc on the talk.\n",
    "* <b>related_talks:</b> A list of related talks.\n",
    "* <b>speaker_occupation:</b> Occuation of the speaker.\n",
    "* <b>tags:</b> Tags assocaited with the talk.\n",
    "* <b>title:</b> Title of the talk.\n",
    "* <b>url:</b> URL to the talk.\n",
    "* <b>views:</b> Number of views for the talk.\n"
   ]
  },
  {
   "cell_type": "code",
   "execution_count": 3,
   "metadata": {
    "papermill": {
     "duration": 0.115401,
     "end_time": "2020-10-22T23:48:33.993103",
     "exception": false,
     "start_time": "2020-10-22T23:48:33.877702",
     "status": "completed"
    },
    "tags": []
   },
   "outputs": [
    {
     "data": {
      "text/plain": [
       "(2550, 17)"
      ]
     },
     "metadata": {},
     "output_type": "display_data"
    },
    {
     "data": {
      "text/html": [
       "<div>\n",
       "<style scoped>\n",
       "    .dataframe tbody tr th:only-of-type {\n",
       "        vertical-align: middle;\n",
       "    }\n",
       "\n",
       "    .dataframe tbody tr th {\n",
       "        vertical-align: top;\n",
       "    }\n",
       "\n",
       "    .dataframe thead th {\n",
       "        text-align: right;\n",
       "    }\n",
       "</style>\n",
       "<table border=\"1\" class=\"dataframe\">\n",
       "  <thead>\n",
       "    <tr style=\"text-align: right;\">\n",
       "      <th></th>\n",
       "      <th>comments</th>\n",
       "      <th>duration</th>\n",
       "      <th>film_date</th>\n",
       "      <th>languages</th>\n",
       "      <th>num_speaker</th>\n",
       "      <th>published_date</th>\n",
       "      <th>views</th>\n",
       "    </tr>\n",
       "  </thead>\n",
       "  <tbody>\n",
       "    <tr>\n",
       "      <th>count</th>\n",
       "      <td>2550.000000</td>\n",
       "      <td>2550.000000</td>\n",
       "      <td>2.550000e+03</td>\n",
       "      <td>2550.000000</td>\n",
       "      <td>2550.000000</td>\n",
       "      <td>2.550000e+03</td>\n",
       "      <td>2.550000e+03</td>\n",
       "    </tr>\n",
       "    <tr>\n",
       "      <th>mean</th>\n",
       "      <td>191.562353</td>\n",
       "      <td>826.510196</td>\n",
       "      <td>1.321928e+09</td>\n",
       "      <td>27.326275</td>\n",
       "      <td>1.028235</td>\n",
       "      <td>1.343525e+09</td>\n",
       "      <td>1.698297e+06</td>\n",
       "    </tr>\n",
       "    <tr>\n",
       "      <th>std</th>\n",
       "      <td>282.315223</td>\n",
       "      <td>374.009138</td>\n",
       "      <td>1.197391e+08</td>\n",
       "      <td>9.563452</td>\n",
       "      <td>0.207705</td>\n",
       "      <td>9.464009e+07</td>\n",
       "      <td>2.498479e+06</td>\n",
       "    </tr>\n",
       "    <tr>\n",
       "      <th>min</th>\n",
       "      <td>2.000000</td>\n",
       "      <td>135.000000</td>\n",
       "      <td>7.464960e+07</td>\n",
       "      <td>0.000000</td>\n",
       "      <td>1.000000</td>\n",
       "      <td>1.151367e+09</td>\n",
       "      <td>5.044300e+04</td>\n",
       "    </tr>\n",
       "    <tr>\n",
       "      <th>25%</th>\n",
       "      <td>63.000000</td>\n",
       "      <td>577.000000</td>\n",
       "      <td>1.257466e+09</td>\n",
       "      <td>23.000000</td>\n",
       "      <td>1.000000</td>\n",
       "      <td>1.268463e+09</td>\n",
       "      <td>7.557928e+05</td>\n",
       "    </tr>\n",
       "    <tr>\n",
       "      <th>50%</th>\n",
       "      <td>118.000000</td>\n",
       "      <td>848.000000</td>\n",
       "      <td>1.333238e+09</td>\n",
       "      <td>28.000000</td>\n",
       "      <td>1.000000</td>\n",
       "      <td>1.340935e+09</td>\n",
       "      <td>1.124524e+06</td>\n",
       "    </tr>\n",
       "    <tr>\n",
       "      <th>75%</th>\n",
       "      <td>221.750000</td>\n",
       "      <td>1046.750000</td>\n",
       "      <td>1.412964e+09</td>\n",
       "      <td>33.000000</td>\n",
       "      <td>1.000000</td>\n",
       "      <td>1.423432e+09</td>\n",
       "      <td>1.700760e+06</td>\n",
       "    </tr>\n",
       "    <tr>\n",
       "      <th>max</th>\n",
       "      <td>6404.000000</td>\n",
       "      <td>5256.000000</td>\n",
       "      <td>1.503792e+09</td>\n",
       "      <td>72.000000</td>\n",
       "      <td>5.000000</td>\n",
       "      <td>1.506092e+09</td>\n",
       "      <td>4.722711e+07</td>\n",
       "    </tr>\n",
       "  </tbody>\n",
       "</table>\n",
       "</div>"
      ],
      "text/plain": [
       "          comments     duration     film_date    languages  num_speaker  \\\n",
       "count  2550.000000  2550.000000  2.550000e+03  2550.000000  2550.000000   \n",
       "mean    191.562353   826.510196  1.321928e+09    27.326275     1.028235   \n",
       "std     282.315223   374.009138  1.197391e+08     9.563452     0.207705   \n",
       "min       2.000000   135.000000  7.464960e+07     0.000000     1.000000   \n",
       "25%      63.000000   577.000000  1.257466e+09    23.000000     1.000000   \n",
       "50%     118.000000   848.000000  1.333238e+09    28.000000     1.000000   \n",
       "75%     221.750000  1046.750000  1.412964e+09    33.000000     1.000000   \n",
       "max    6404.000000  5256.000000  1.503792e+09    72.000000     5.000000   \n",
       "\n",
       "       published_date         views  \n",
       "count    2.550000e+03  2.550000e+03  \n",
       "mean     1.343525e+09  1.698297e+06  \n",
       "std      9.464009e+07  2.498479e+06  \n",
       "min      1.151367e+09  5.044300e+04  \n",
       "25%      1.268463e+09  7.557928e+05  \n",
       "50%      1.340935e+09  1.124524e+06  \n",
       "75%      1.423432e+09  1.700760e+06  \n",
       "max      1.506092e+09  4.722711e+07  "
      ]
     },
     "metadata": {},
     "output_type": "display_data"
    },
    {
     "name": "stdout",
     "output_type": "stream",
     "text": [
      "<class 'pandas.core.frame.DataFrame'>\n",
      "RangeIndex: 2550 entries, 0 to 2549\n",
      "Data columns (total 17 columns):\n",
      " #   Column              Non-Null Count  Dtype \n",
      "---  ------              --------------  ----- \n",
      " 0   comments            2550 non-null   int64 \n",
      " 1   description         2550 non-null   object\n",
      " 2   duration            2550 non-null   int64 \n",
      " 3   event               2550 non-null   object\n",
      " 4   film_date           2550 non-null   int64 \n",
      " 5   languages           2550 non-null   int64 \n",
      " 6   main_speaker        2550 non-null   object\n",
      " 7   name                2550 non-null   object\n",
      " 8   num_speaker         2550 non-null   int64 \n",
      " 9   published_date      2550 non-null   int64 \n",
      " 10  ratings             2550 non-null   object\n",
      " 11  related_talks       2550 non-null   object\n",
      " 12  speaker_occupation  2544 non-null   object\n",
      " 13  tags                2550 non-null   object\n",
      " 14  title               2550 non-null   object\n",
      " 15  url                 2550 non-null   object\n",
      " 16  views               2550 non-null   int64 \n",
      "dtypes: int64(7), object(10)\n",
      "memory usage: 338.8+ KB\n"
     ]
    },
    {
     "data": {
      "text/plain": [
       "None"
      ]
     },
     "metadata": {},
     "output_type": "display_data"
    }
   ],
   "source": [
    "display(ted_data.shape)\n",
    "display(ted_data.describe())\n",
    "display(ted_data.info())"
   ]
  },
  {
   "cell_type": "code",
   "execution_count": 4,
   "metadata": {
    "papermill": {
     "duration": 0.061363,
     "end_time": "2020-10-22T23:48:34.099696",
     "exception": false,
     "start_time": "2020-10-22T23:48:34.038333",
     "status": "completed"
    },
    "tags": []
   },
   "outputs": [
    {
     "data": {
      "text/plain": [
       "comments              0\n",
       "description           0\n",
       "duration              0\n",
       "event                 0\n",
       "film_date             0\n",
       "languages             0\n",
       "main_speaker          0\n",
       "name                  0\n",
       "num_speaker           0\n",
       "published_date        0\n",
       "ratings               0\n",
       "related_talks         0\n",
       "speaker_occupation    6\n",
       "tags                  0\n",
       "title                 0\n",
       "url                   0\n",
       "views                 0\n",
       "dtype: int64"
      ]
     },
     "execution_count": 4,
     "metadata": {},
     "output_type": "execute_result"
    }
   ],
   "source": [
    "ted_data.isnull().sum()"
   ]
  },
  {
   "cell_type": "markdown",
   "metadata": {
    "papermill": {
     "duration": 0.04431,
     "end_time": "2020-10-22T23:48:34.189157",
     "exception": false,
     "start_time": "2020-10-22T23:48:34.144847",
     "status": "completed"
    },
    "tags": []
   },
   "source": [
    "* There are 2550 rows and 17 columns.\n",
    "* **speaker_occupation** column have 6 missing values.\n",
    "\n",
    "<h3>Next:</h3>\n",
    "\n",
    "* Convert the UNIX timestamp to datetime format.\n",
    "* Convert the duration from seconds to mins."
   ]
  },
  {
   "cell_type": "code",
   "execution_count": 5,
   "metadata": {
    "papermill": {
     "duration": 2.056952,
     "end_time": "2020-10-22T23:48:36.291002",
     "exception": false,
     "start_time": "2020-10-22T23:48:34.234050",
     "status": "completed"
    },
    "tags": []
   },
   "outputs": [
    {
     "data": {
      "text/html": [
       "<div>\n",
       "<style scoped>\n",
       "    .dataframe tbody tr th:only-of-type {\n",
       "        vertical-align: middle;\n",
       "    }\n",
       "\n",
       "    .dataframe tbody tr th {\n",
       "        vertical-align: top;\n",
       "    }\n",
       "\n",
       "    .dataframe thead th {\n",
       "        text-align: right;\n",
       "    }\n",
       "</style>\n",
       "<table border=\"1\" class=\"dataframe\">\n",
       "  <thead>\n",
       "    <tr style=\"text-align: right;\">\n",
       "      <th></th>\n",
       "      <th>comments</th>\n",
       "      <th>description</th>\n",
       "      <th>duration</th>\n",
       "      <th>event</th>\n",
       "      <th>film_date</th>\n",
       "      <th>languages</th>\n",
       "      <th>main_speaker</th>\n",
       "      <th>name</th>\n",
       "      <th>num_speaker</th>\n",
       "      <th>published_date</th>\n",
       "      <th>ratings</th>\n",
       "      <th>related_talks</th>\n",
       "      <th>speaker_occupation</th>\n",
       "      <th>tags</th>\n",
       "      <th>title</th>\n",
       "      <th>url</th>\n",
       "      <th>views</th>\n",
       "    </tr>\n",
       "  </thead>\n",
       "  <tbody>\n",
       "    <tr>\n",
       "      <th>0</th>\n",
       "      <td>4553</td>\n",
       "      <td>Sir Ken Robinson makes an entertaining and pro...</td>\n",
       "      <td>19.40</td>\n",
       "      <td>TED2006</td>\n",
       "      <td>2006-02-25</td>\n",
       "      <td>60</td>\n",
       "      <td>Ken Robinson</td>\n",
       "      <td>Ken Robinson: Do schools kill creativity?</td>\n",
       "      <td>1</td>\n",
       "      <td>2006-06-27 00:11:00</td>\n",
       "      <td>[{'id': 7, 'name': 'Funny', 'count': 19645}, {...</td>\n",
       "      <td>[{'id': 865, 'hero': 'https://pe.tedcdn.com/im...</td>\n",
       "      <td>Author/educator</td>\n",
       "      <td>['children', 'creativity', 'culture', 'dance',...</td>\n",
       "      <td>Do schools kill creativity?</td>\n",
       "      <td>https://www.ted.com/talks/ken_robinson_says_sc...</td>\n",
       "      <td>47227110</td>\n",
       "    </tr>\n",
       "    <tr>\n",
       "      <th>1</th>\n",
       "      <td>265</td>\n",
       "      <td>With the same humor and humanity he exuded in ...</td>\n",
       "      <td>16.28</td>\n",
       "      <td>TED2006</td>\n",
       "      <td>2006-02-25</td>\n",
       "      <td>43</td>\n",
       "      <td>Al Gore</td>\n",
       "      <td>Al Gore: Averting the climate crisis</td>\n",
       "      <td>1</td>\n",
       "      <td>2006-06-27 00:11:00</td>\n",
       "      <td>[{'id': 7, 'name': 'Funny', 'count': 544}, {'i...</td>\n",
       "      <td>[{'id': 243, 'hero': 'https://pe.tedcdn.com/im...</td>\n",
       "      <td>Climate advocate</td>\n",
       "      <td>['alternative energy', 'cars', 'climate change...</td>\n",
       "      <td>Averting the climate crisis</td>\n",
       "      <td>https://www.ted.com/talks/al_gore_on_averting_...</td>\n",
       "      <td>3200520</td>\n",
       "    </tr>\n",
       "    <tr>\n",
       "      <th>2</th>\n",
       "      <td>124</td>\n",
       "      <td>New York Times columnist David Pogue takes aim...</td>\n",
       "      <td>21.43</td>\n",
       "      <td>TED2006</td>\n",
       "      <td>2006-02-24</td>\n",
       "      <td>26</td>\n",
       "      <td>David Pogue</td>\n",
       "      <td>David Pogue: Simplicity sells</td>\n",
       "      <td>1</td>\n",
       "      <td>2006-06-27 00:11:00</td>\n",
       "      <td>[{'id': 7, 'name': 'Funny', 'count': 964}, {'i...</td>\n",
       "      <td>[{'id': 1725, 'hero': 'https://pe.tedcdn.com/i...</td>\n",
       "      <td>Technology columnist</td>\n",
       "      <td>['computers', 'entertainment', 'interface desi...</td>\n",
       "      <td>Simplicity sells</td>\n",
       "      <td>https://www.ted.com/talks/david_pogue_says_sim...</td>\n",
       "      <td>1636292</td>\n",
       "    </tr>\n",
       "    <tr>\n",
       "      <th>3</th>\n",
       "      <td>200</td>\n",
       "      <td>In an emotionally charged talk, MacArthur-winn...</td>\n",
       "      <td>18.60</td>\n",
       "      <td>TED2006</td>\n",
       "      <td>2006-02-26</td>\n",
       "      <td>35</td>\n",
       "      <td>Majora Carter</td>\n",
       "      <td>Majora Carter: Greening the ghetto</td>\n",
       "      <td>1</td>\n",
       "      <td>2006-06-27 00:11:00</td>\n",
       "      <td>[{'id': 3, 'name': 'Courageous', 'count': 760}...</td>\n",
       "      <td>[{'id': 1041, 'hero': 'https://pe.tedcdn.com/i...</td>\n",
       "      <td>Activist for environmental justice</td>\n",
       "      <td>['MacArthur grant', 'activism', 'business', 'c...</td>\n",
       "      <td>Greening the ghetto</td>\n",
       "      <td>https://www.ted.com/talks/majora_carter_s_tale...</td>\n",
       "      <td>1697550</td>\n",
       "    </tr>\n",
       "    <tr>\n",
       "      <th>4</th>\n",
       "      <td>593</td>\n",
       "      <td>You've never seen data presented like this. Wi...</td>\n",
       "      <td>19.83</td>\n",
       "      <td>TED2006</td>\n",
       "      <td>2006-02-22</td>\n",
       "      <td>48</td>\n",
       "      <td>Hans Rosling</td>\n",
       "      <td>Hans Rosling: The best stats you've ever seen</td>\n",
       "      <td>1</td>\n",
       "      <td>2006-06-27 20:38:00</td>\n",
       "      <td>[{'id': 9, 'name': 'Ingenious', 'count': 3202}...</td>\n",
       "      <td>[{'id': 2056, 'hero': 'https://pe.tedcdn.com/i...</td>\n",
       "      <td>Global health expert; data visionary</td>\n",
       "      <td>['Africa', 'Asia', 'Google', 'demo', 'economic...</td>\n",
       "      <td>The best stats you've ever seen</td>\n",
       "      <td>https://www.ted.com/talks/hans_rosling_shows_t...</td>\n",
       "      <td>12005869</td>\n",
       "    </tr>\n",
       "  </tbody>\n",
       "</table>\n",
       "</div>"
      ],
      "text/plain": [
       "   comments                                        description  duration  \\\n",
       "0      4553  Sir Ken Robinson makes an entertaining and pro...     19.40   \n",
       "1       265  With the same humor and humanity he exuded in ...     16.28   \n",
       "2       124  New York Times columnist David Pogue takes aim...     21.43   \n",
       "3       200  In an emotionally charged talk, MacArthur-winn...     18.60   \n",
       "4       593  You've never seen data presented like this. Wi...     19.83   \n",
       "\n",
       "     event  film_date  languages   main_speaker  \\\n",
       "0  TED2006 2006-02-25         60   Ken Robinson   \n",
       "1  TED2006 2006-02-25         43        Al Gore   \n",
       "2  TED2006 2006-02-24         26    David Pogue   \n",
       "3  TED2006 2006-02-26         35  Majora Carter   \n",
       "4  TED2006 2006-02-22         48   Hans Rosling   \n",
       "\n",
       "                                            name  num_speaker  \\\n",
       "0      Ken Robinson: Do schools kill creativity?            1   \n",
       "1           Al Gore: Averting the climate crisis            1   \n",
       "2                  David Pogue: Simplicity sells            1   \n",
       "3             Majora Carter: Greening the ghetto            1   \n",
       "4  Hans Rosling: The best stats you've ever seen            1   \n",
       "\n",
       "       published_date                                            ratings  \\\n",
       "0 2006-06-27 00:11:00  [{'id': 7, 'name': 'Funny', 'count': 19645}, {...   \n",
       "1 2006-06-27 00:11:00  [{'id': 7, 'name': 'Funny', 'count': 544}, {'i...   \n",
       "2 2006-06-27 00:11:00  [{'id': 7, 'name': 'Funny', 'count': 964}, {'i...   \n",
       "3 2006-06-27 00:11:00  [{'id': 3, 'name': 'Courageous', 'count': 760}...   \n",
       "4 2006-06-27 20:38:00  [{'id': 9, 'name': 'Ingenious', 'count': 3202}...   \n",
       "\n",
       "                                       related_talks  \\\n",
       "0  [{'id': 865, 'hero': 'https://pe.tedcdn.com/im...   \n",
       "1  [{'id': 243, 'hero': 'https://pe.tedcdn.com/im...   \n",
       "2  [{'id': 1725, 'hero': 'https://pe.tedcdn.com/i...   \n",
       "3  [{'id': 1041, 'hero': 'https://pe.tedcdn.com/i...   \n",
       "4  [{'id': 2056, 'hero': 'https://pe.tedcdn.com/i...   \n",
       "\n",
       "                     speaker_occupation  \\\n",
       "0                       Author/educator   \n",
       "1                      Climate advocate   \n",
       "2                  Technology columnist   \n",
       "3    Activist for environmental justice   \n",
       "4  Global health expert; data visionary   \n",
       "\n",
       "                                                tags  \\\n",
       "0  ['children', 'creativity', 'culture', 'dance',...   \n",
       "1  ['alternative energy', 'cars', 'climate change...   \n",
       "2  ['computers', 'entertainment', 'interface desi...   \n",
       "3  ['MacArthur grant', 'activism', 'business', 'c...   \n",
       "4  ['Africa', 'Asia', 'Google', 'demo', 'economic...   \n",
       "\n",
       "                             title  \\\n",
       "0      Do schools kill creativity?   \n",
       "1      Averting the climate crisis   \n",
       "2                 Simplicity sells   \n",
       "3              Greening the ghetto   \n",
       "4  The best stats you've ever seen   \n",
       "\n",
       "                                                 url     views  \n",
       "0  https://www.ted.com/talks/ken_robinson_says_sc...  47227110  \n",
       "1  https://www.ted.com/talks/al_gore_on_averting_...   3200520  \n",
       "2  https://www.ted.com/talks/david_pogue_says_sim...   1636292  \n",
       "3  https://www.ted.com/talks/majora_carter_s_tale...   1697550  \n",
       "4  https://www.ted.com/talks/hans_rosling_shows_t...  12005869  "
      ]
     },
     "metadata": {},
     "output_type": "display_data"
    }
   ],
   "source": [
    "def date_convert(x):\n",
    "    return pd.to_datetime(x,unit='s')\n",
    "\n",
    "ted_data['film_date'] = ted_data['film_date'].apply(date_convert)\n",
    "ted_data['published_date'] = ted_data['published_date'].apply(date_convert)\n",
    "ted_data['duration'] = ted_data['duration'].apply(lambda x: round(x/60, 2))\n",
    "display(ted_data.head())"
   ]
  },
  {
   "cell_type": "markdown",
   "metadata": {
    "papermill": {
     "duration": 0.045134,
     "end_time": "2020-10-22T23:48:36.381488",
     "exception": false,
     "start_time": "2020-10-22T23:48:36.336354",
     "status": "completed"
    },
    "tags": []
   },
   "source": [
    "<h2>2: Top 10s</h2>\n",
    "<h3>Top 10 most talked</h3>"
   ]
  },
  {
   "cell_type": "code",
   "execution_count": 6,
   "metadata": {
    "papermill": {
     "duration": 0.360344,
     "end_time": "2020-10-22T23:48:36.787265",
     "exception": false,
     "start_time": "2020-10-22T23:48:36.426921",
     "status": "completed"
    },
    "tags": []
   },
   "outputs": [
    {
     "name": "stdout",
     "output_type": "stream",
     "text": [
      "Average duration = 13.78\n",
      "Median duration = 14.13\n"
     ]
    },
    {
     "data": {
      "text/html": [
       "<div>\n",
       "<style scoped>\n",
       "    .dataframe tbody tr th:only-of-type {\n",
       "        vertical-align: middle;\n",
       "    }\n",
       "\n",
       "    .dataframe tbody tr th {\n",
       "        vertical-align: top;\n",
       "    }\n",
       "\n",
       "    .dataframe thead th {\n",
       "        text-align: right;\n",
       "    }\n",
       "</style>\n",
       "<table border=\"1\" class=\"dataframe\">\n",
       "  <thead>\n",
       "    <tr style=\"text-align: right;\">\n",
       "      <th></th>\n",
       "      <th>main_speaker</th>\n",
       "      <th>title</th>\n",
       "      <th>event</th>\n",
       "      <th>duration</th>\n",
       "    </tr>\n",
       "  </thead>\n",
       "  <tbody>\n",
       "    <tr>\n",
       "      <th>640</th>\n",
       "      <td>Douglas Adams</td>\n",
       "      <td>Parrots, the universe and everything</td>\n",
       "      <td>University of California</td>\n",
       "      <td>87.60</td>\n",
       "    </tr>\n",
       "    <tr>\n",
       "      <th>588</th>\n",
       "      <td>Randy Pausch</td>\n",
       "      <td>Really achieving your childhood dreams</td>\n",
       "      <td>Carnegie Mellon University</td>\n",
       "      <td>76.45</td>\n",
       "    </tr>\n",
       "    <tr>\n",
       "      <th>629</th>\n",
       "      <td>Richard Feynman</td>\n",
       "      <td>Physics is fun to imagine</td>\n",
       "      <td>BBC TV</td>\n",
       "      <td>65.92</td>\n",
       "    </tr>\n",
       "    <tr>\n",
       "      <th>2387</th>\n",
       "      <td>Yuval Noah Harari</td>\n",
       "      <td>Nationalism vs. globalism: the new political d...</td>\n",
       "      <td>TED Dialogues</td>\n",
       "      <td>60.13</td>\n",
       "    </tr>\n",
       "    <tr>\n",
       "      <th>594</th>\n",
       "      <td>Edwidge Danticat</td>\n",
       "      <td>Stories of Haiti</td>\n",
       "      <td>University of California</td>\n",
       "      <td>59.55</td>\n",
       "    </tr>\n",
       "    <tr>\n",
       "      <th>600</th>\n",
       "      <td>Richard Dawkins</td>\n",
       "      <td>Growing up in the universe</td>\n",
       "      <td>Royal Institution</td>\n",
       "      <td>57.92</td>\n",
       "    </tr>\n",
       "    <tr>\n",
       "      <th>580</th>\n",
       "      <td>Michael Sandel</td>\n",
       "      <td>What's the right thing to do?</td>\n",
       "      <td>Justice with Michael Sandel</td>\n",
       "      <td>54.93</td>\n",
       "    </tr>\n",
       "    <tr>\n",
       "      <th>2421</th>\n",
       "      <td>Gretchen Carlson, David Brooks</td>\n",
       "      <td>Political common ground in a polarized United ...</td>\n",
       "      <td>TED Dialogues</td>\n",
       "      <td>47.55</td>\n",
       "    </tr>\n",
       "    <tr>\n",
       "      <th>947</th>\n",
       "      <td>Malcolm McLaren</td>\n",
       "      <td>Authentic creativity vs. karaoke culture</td>\n",
       "      <td>Handheld Learning</td>\n",
       "      <td>46.02</td>\n",
       "    </tr>\n",
       "    <tr>\n",
       "      <th>202</th>\n",
       "      <td>Frank Gehry</td>\n",
       "      <td>My days as a young rebel</td>\n",
       "      <td>TED1990</td>\n",
       "      <td>44.63</td>\n",
       "    </tr>\n",
       "  </tbody>\n",
       "</table>\n",
       "</div>"
      ],
      "text/plain": [
       "                        main_speaker  \\\n",
       "640                    Douglas Adams   \n",
       "588                     Randy Pausch   \n",
       "629                  Richard Feynman   \n",
       "2387               Yuval Noah Harari   \n",
       "594                 Edwidge Danticat   \n",
       "600                  Richard Dawkins   \n",
       "580                   Michael Sandel   \n",
       "2421  Gretchen Carlson, David Brooks   \n",
       "947                  Malcolm McLaren   \n",
       "202                      Frank Gehry   \n",
       "\n",
       "                                                  title  \\\n",
       "640                Parrots, the universe and everything   \n",
       "588              Really achieving your childhood dreams   \n",
       "629                           Physics is fun to imagine   \n",
       "2387  Nationalism vs. globalism: the new political d...   \n",
       "594                                    Stories of Haiti   \n",
       "600                          Growing up in the universe   \n",
       "580                       What's the right thing to do?   \n",
       "2421  Political common ground in a polarized United ...   \n",
       "947            Authentic creativity vs. karaoke culture   \n",
       "202                            My days as a young rebel   \n",
       "\n",
       "                            event  duration  \n",
       "640      University of California     87.60  \n",
       "588    Carnegie Mellon University     76.45  \n",
       "629                        BBC TV     65.92  \n",
       "2387                TED Dialogues     60.13  \n",
       "594      University of California     59.55  \n",
       "600             Royal Institution     57.92  \n",
       "580   Justice with Michael Sandel     54.93  \n",
       "2421                TED Dialogues     47.55  \n",
       "947             Handheld Learning     46.02  \n",
       "202                       TED1990     44.63  "
      ]
     },
     "metadata": {},
     "output_type": "display_data"
    },
    {
     "data": {
      "image/png": "[encoded data removed]",
      "text/plain": [
       "<Figure size 720x360 with 1 Axes>"
      ]
     },
     "metadata": {
      "needs_background": "light"
     },
     "output_type": "display_data"
    }
   ],
   "source": [
    "print(\"Average duration = {}\".format(round(ted_data[\"duration\"].mean(), 2)))\n",
    "\n",
    "print(\"Median duration = {}\".format(round(ted_data[\"duration\"].median(), 2)))\n",
    "\n",
    "display(ted_data[[\"main_speaker\", \"title\", \"event\", \"duration\"]].sort_values(\"duration\", ascending=False).head(10))\n",
    "\n",
    "plt.figure(figsize=(10,5))\n",
    "ax = sns.barplot(x=\"duration\", y=\"main_speaker\", data=ted_data.sort_values('duration', ascending=False)[:10])\n",
    "ax.set_title(\"Top duration\", pad=10, fontdict={'fontsize': 20})\n",
    "plt.show()"
   ]
  },
  {
   "cell_type": "code",
   "execution_count": 7,
   "metadata": {
    "papermill": {
     "duration": 0.07289,
     "end_time": "2020-10-22T23:48:36.908743",
     "exception": false,
     "start_time": "2020-10-22T23:48:36.835853",
     "status": "completed"
    },
    "tags": []
   },
   "outputs": [
    {
     "data": {
      "text/html": [
       "<div>\n",
       "<style scoped>\n",
       "    .dataframe tbody tr th:only-of-type {\n",
       "        vertical-align: middle;\n",
       "    }\n",
       "\n",
       "    .dataframe tbody tr th {\n",
       "        vertical-align: top;\n",
       "    }\n",
       "\n",
       "    .dataframe thead th {\n",
       "        text-align: right;\n",
       "    }\n",
       "</style>\n",
       "<table border=\"1\" class=\"dataframe\">\n",
       "  <thead>\n",
       "    <tr style=\"text-align: right;\">\n",
       "      <th></th>\n",
       "      <th>main_speaker</th>\n",
       "      <th>title</th>\n",
       "      <th>event</th>\n",
       "      <th>duration</th>\n",
       "    </tr>\n",
       "  </thead>\n",
       "  <tbody>\n",
       "    <tr>\n",
       "      <th>239</th>\n",
       "      <td>Murray Gell-Mann</td>\n",
       "      <td>The ancestor of language</td>\n",
       "      <td>TED2007</td>\n",
       "      <td>2.25</td>\n",
       "    </tr>\n",
       "    <tr>\n",
       "      <th>248</th>\n",
       "      <td>Nellie McKay</td>\n",
       "      <td>\"Clonie\"</td>\n",
       "      <td>TED2008</td>\n",
       "      <td>2.33</td>\n",
       "    </tr>\n",
       "    <tr>\n",
       "      <th>547</th>\n",
       "      <td>Matthew White</td>\n",
       "      <td>The modern euphonium</td>\n",
       "      <td>TEDGlobal 2009</td>\n",
       "      <td>2.35</td>\n",
       "    </tr>\n",
       "    <tr>\n",
       "      <th>454</th>\n",
       "      <td>Yves Behar</td>\n",
       "      <td>A supercharged motorcycle design</td>\n",
       "      <td>TED2009</td>\n",
       "      <td>2.38</td>\n",
       "    </tr>\n",
       "    <tr>\n",
       "      <th>264</th>\n",
       "      <td>Marisa Fick-Jordan</td>\n",
       "      <td>The wonder of Zulu wire art</td>\n",
       "      <td>TEDGlobal 2007</td>\n",
       "      <td>2.55</td>\n",
       "    </tr>\n",
       "    <tr>\n",
       "      <th>606</th>\n",
       "      <td>Derek Sivers</td>\n",
       "      <td>Weird, or just different?</td>\n",
       "      <td>TEDIndia 2009</td>\n",
       "      <td>2.70</td>\n",
       "    </tr>\n",
       "    <tr>\n",
       "      <th>86</th>\n",
       "      <td>Jill Sobule</td>\n",
       "      <td>Global warming's theme song, \"Manhattan in Jan...</td>\n",
       "      <td>TED2006</td>\n",
       "      <td>2.72</td>\n",
       "    </tr>\n",
       "    <tr>\n",
       "      <th>1390</th>\n",
       "      <td>Paolo Cardini</td>\n",
       "      <td>Forget multitasking, try monotasking</td>\n",
       "      <td>TEDGlobal 2012</td>\n",
       "      <td>2.87</td>\n",
       "    </tr>\n",
       "    <tr>\n",
       "      <th>593</th>\n",
       "      <td>Lalitesh Katragadda</td>\n",
       "      <td>Making maps to fight disaster, build economies</td>\n",
       "      <td>TEDIndia 2009</td>\n",
       "      <td>2.90</td>\n",
       "    </tr>\n",
       "    <tr>\n",
       "      <th>722</th>\n",
       "      <td>Mitchell Joachim</td>\n",
       "      <td>Don't build your home, grow it!</td>\n",
       "      <td>TED2010</td>\n",
       "      <td>2.93</td>\n",
       "    </tr>\n",
       "  </tbody>\n",
       "</table>\n",
       "</div>"
      ],
      "text/plain": [
       "             main_speaker                                              title  \\\n",
       "239      Murray Gell-Mann                           The ancestor of language   \n",
       "248          Nellie McKay                                           \"Clonie\"   \n",
       "547         Matthew White                               The modern euphonium   \n",
       "454            Yves Behar                   A supercharged motorcycle design   \n",
       "264    Marisa Fick-Jordan                        The wonder of Zulu wire art   \n",
       "606          Derek Sivers                          Weird, or just different?   \n",
       "86            Jill Sobule  Global warming's theme song, \"Manhattan in Jan...   \n",
       "1390        Paolo Cardini               Forget multitasking, try monotasking   \n",
       "593   Lalitesh Katragadda     Making maps to fight disaster, build economies   \n",
       "722      Mitchell Joachim                    Don't build your home, grow it!   \n",
       "\n",
       "               event  duration  \n",
       "239          TED2007      2.25  \n",
       "248          TED2008      2.33  \n",
       "547   TEDGlobal 2009      2.35  \n",
       "454          TED2009      2.38  \n",
       "264   TEDGlobal 2007      2.55  \n",
       "606    TEDIndia 2009      2.70  \n",
       "86           TED2006      2.72  \n",
       "1390  TEDGlobal 2012      2.87  \n",
       "593    TEDIndia 2009      2.90  \n",
       "722          TED2010      2.93  "
      ]
     },
     "execution_count": 7,
     "metadata": {},
     "output_type": "execute_result"
    }
   ],
   "source": [
    "ted_data[[\"main_speaker\", \"title\", \"event\", \"duration\"]].sort_values(\"duration\").head(10)"
   ]
  },
  {
   "cell_type": "markdown",
   "metadata": {
    "papermill": {
     "duration": 0.048197,
     "end_time": "2020-10-22T23:48:37.005147",
     "exception": false,
     "start_time": "2020-10-22T23:48:36.956950",
     "status": "completed"
    },
    "tags": []
   },
   "source": [
    "* Knowing that on an average most TED talks are usually about 18 mins long, __average of 13.7 mins__ and __median of 14.1 mins__ for the entore dataset seems a little lower.\n",
    "* Having talks that over an hour are uncommon.\n",
    "* The longest talk comes from __Douglas Adams__ for title named __Parrots, the universe and everything__, timed at about 87 mins. This is actually not a TED talk at all, since it was given at the University of California.\n",
    "* Infact most of the top duration talks aren't TED talks as seen from the _event_ column. These talks were just hosted on ted.com website.\n",
    "* The smallest talk came from __Murray Gell-Mann__ for title named __The ancestor of language__, timed at about 2.25 mins."
   ]
  },
  {
   "cell_type": "markdown",
   "metadata": {
    "papermill": {
     "duration": 0.047681,
     "end_time": "2020-10-22T23:48:37.101688",
     "exception": false,
     "start_time": "2020-10-22T23:48:37.054007",
     "status": "completed"
    },
    "tags": []
   },
   "source": [
    "<h3>Top 10 most viewed</h3>"
   ]
  },
  {
   "cell_type": "code",
   "execution_count": 8,
   "metadata": {
    "papermill": {
     "duration": 0.319976,
     "end_time": "2020-10-22T23:48:37.469716",
     "exception": false,
     "start_time": "2020-10-22T23:48:37.149740",
     "status": "completed"
    },
    "tags": []
   },
   "outputs": [
    {
     "name": "stdout",
     "output_type": "stream",
     "text": [
      "Average views = 1698297.48\n",
      "Median views = 1124523.5\n"
     ]
    },
    {
     "data": {
      "text/html": [
       "<div>\n",
       "<style scoped>\n",
       "    .dataframe tbody tr th:only-of-type {\n",
       "        vertical-align: middle;\n",
       "    }\n",
       "\n",
       "    .dataframe tbody tr th {\n",
       "        vertical-align: top;\n",
       "    }\n",
       "\n",
       "    .dataframe thead th {\n",
       "        text-align: right;\n",
       "    }\n",
       "</style>\n",
       "<table border=\"1\" class=\"dataframe\">\n",
       "  <thead>\n",
       "    <tr style=\"text-align: right;\">\n",
       "      <th></th>\n",
       "      <th>main_speaker</th>\n",
       "      <th>title</th>\n",
       "      <th>event</th>\n",
       "      <th>views</th>\n",
       "    </tr>\n",
       "  </thead>\n",
       "  <tbody>\n",
       "    <tr>\n",
       "      <th>0</th>\n",
       "      <td>Ken Robinson</td>\n",
       "      <td>Do schools kill creativity?</td>\n",
       "      <td>TED2006</td>\n",
       "      <td>47227110</td>\n",
       "    </tr>\n",
       "    <tr>\n",
       "      <th>1346</th>\n",
       "      <td>Amy Cuddy</td>\n",
       "      <td>Your body language may shape who you are</td>\n",
       "      <td>TEDGlobal 2012</td>\n",
       "      <td>43155405</td>\n",
       "    </tr>\n",
       "    <tr>\n",
       "      <th>677</th>\n",
       "      <td>Simon Sinek</td>\n",
       "      <td>How great leaders inspire action</td>\n",
       "      <td>TEDxPuget Sound</td>\n",
       "      <td>34309432</td>\n",
       "    </tr>\n",
       "    <tr>\n",
       "      <th>837</th>\n",
       "      <td>Brené Brown</td>\n",
       "      <td>The power of vulnerability</td>\n",
       "      <td>TEDxHouston</td>\n",
       "      <td>31168150</td>\n",
       "    </tr>\n",
       "    <tr>\n",
       "      <th>452</th>\n",
       "      <td>Mary Roach</td>\n",
       "      <td>10 things you didn't know about orgasm</td>\n",
       "      <td>TED2009</td>\n",
       "      <td>22270883</td>\n",
       "    </tr>\n",
       "    <tr>\n",
       "      <th>1776</th>\n",
       "      <td>Julian Treasure</td>\n",
       "      <td>How to speak so that people want to listen</td>\n",
       "      <td>TEDGlobal 2013</td>\n",
       "      <td>21594632</td>\n",
       "    </tr>\n",
       "    <tr>\n",
       "      <th>201</th>\n",
       "      <td>Jill Bolte Taylor</td>\n",
       "      <td>My stroke of insight</td>\n",
       "      <td>TED2008</td>\n",
       "      <td>21190883</td>\n",
       "    </tr>\n",
       "    <tr>\n",
       "      <th>5</th>\n",
       "      <td>Tony Robbins</td>\n",
       "      <td>Why we do what we do</td>\n",
       "      <td>TED2006</td>\n",
       "      <td>20685401</td>\n",
       "    </tr>\n",
       "    <tr>\n",
       "      <th>2114</th>\n",
       "      <td>James Veitch</td>\n",
       "      <td>This is what happens when you reply to spam email</td>\n",
       "      <td>TEDGlobal&gt;Geneva</td>\n",
       "      <td>20475972</td>\n",
       "    </tr>\n",
       "    <tr>\n",
       "      <th>1416</th>\n",
       "      <td>Cameron Russell</td>\n",
       "      <td>Looks aren't everything. Believe me, I'm a model.</td>\n",
       "      <td>TEDxMidAtlantic</td>\n",
       "      <td>19787465</td>\n",
       "    </tr>\n",
       "  </tbody>\n",
       "</table>\n",
       "</div>"
      ],
      "text/plain": [
       "           main_speaker                                              title  \\\n",
       "0          Ken Robinson                        Do schools kill creativity?   \n",
       "1346          Amy Cuddy           Your body language may shape who you are   \n",
       "677         Simon Sinek                   How great leaders inspire action   \n",
       "837         Brené Brown                         The power of vulnerability   \n",
       "452          Mary Roach             10 things you didn't know about orgasm   \n",
       "1776    Julian Treasure         How to speak so that people want to listen   \n",
       "201   Jill Bolte Taylor                               My stroke of insight   \n",
       "5          Tony Robbins                               Why we do what we do   \n",
       "2114       James Veitch  This is what happens when you reply to spam email   \n",
       "1416    Cameron Russell  Looks aren't everything. Believe me, I'm a model.   \n",
       "\n",
       "                 event     views  \n",
       "0              TED2006  47227110  \n",
       "1346    TEDGlobal 2012  43155405  \n",
       "677   TEDxPuget Sound   34309432  \n",
       "837        TEDxHouston  31168150  \n",
       "452            TED2009  22270883  \n",
       "1776    TEDGlobal 2013  21594632  \n",
       "201            TED2008  21190883  \n",
       "5              TED2006  20685401  \n",
       "2114  TEDGlobal>Geneva  20475972  \n",
       "1416   TEDxMidAtlantic  19787465  "
      ]
     },
     "metadata": {},
     "output_type": "display_data"
    },
    {
     "data": {
      "image/png": "[encoded data removed]",
      "text/plain": [
       "<Figure size 720x360 with 1 Axes>"
      ]
     },
     "metadata": {
      "needs_background": "light"
     },
     "output_type": "display_data"
    }
   ],
   "source": [
    "print(\"Average views = {}\".format(round(ted_data[\"views\"].mean(), 2)))\n",
    "\n",
    "print(\"Median views = {}\".format(round(ted_data[\"views\"].median(), 2)))\n",
    "\n",
    "display(ted_data[[\"main_speaker\", \"title\", \"event\", \"views\"]].sort_values('views', ascending=False).head(10))\n",
    "\n",
    "plt.figure(figsize=(10,5))\n",
    "ax = sns.barplot(x=\"views\", y=\"main_speaker\", data=ted_data.sort_values('views', ascending=False)[:10])\n",
    "ax.set_title(\"Top Viewed\", pad=10, fontdict={'fontsize': 20})\n",
    "plt.show()"
   ]
  },
  {
   "cell_type": "markdown",
   "metadata": {
    "papermill": {
     "duration": 0.049791,
     "end_time": "2020-10-22T23:48:37.571294",
     "exception": false,
     "start_time": "2020-10-22T23:48:37.521503",
     "status": "completed"
    },
    "tags": []
   },
   "source": [
    "* The most views came from __Ken Robinson__ for title named \"__Do schools kill creativity?__\", with almost __47 million__ views, which is huge when compared to average views of about 1.7 million, and a median of about 1.12 million.\n",
    "* At second place is __Amy Cuddy__'s talk, titled \"__Your body language may shape who you are__\" with __43 million__ views.\n",
    "* All of the top viewed talks came from actual TED talks hosted at various TED shows globally."
   ]
  },
  {
   "cell_type": "markdown",
   "metadata": {
    "papermill": {
     "duration": 0.049947,
     "end_time": "2020-10-22T23:48:37.671723",
     "exception": false,
     "start_time": "2020-10-22T23:48:37.621776",
     "status": "completed"
    },
    "tags": []
   },
   "source": [
    "<h3>Top 10 most comments</h3>"
   ]
  },
  {
   "cell_type": "code",
   "execution_count": 9,
   "metadata": {
    "papermill": {
     "duration": 0.331421,
     "end_time": "2020-10-22T23:48:38.053433",
     "exception": false,
     "start_time": "2020-10-22T23:48:37.722012",
     "status": "completed"
    },
    "tags": []
   },
   "outputs": [
    {
     "name": "stdout",
     "output_type": "stream",
     "text": [
      "Average comments = 191.56\n",
      "Median comments = 118.0\n"
     ]
    },
    {
     "data": {
      "text/html": [
       "<div>\n",
       "<style scoped>\n",
       "    .dataframe tbody tr th:only-of-type {\n",
       "        vertical-align: middle;\n",
       "    }\n",
       "\n",
       "    .dataframe tbody tr th {\n",
       "        vertical-align: top;\n",
       "    }\n",
       "\n",
       "    .dataframe thead th {\n",
       "        text-align: right;\n",
       "    }\n",
       "</style>\n",
       "<table border=\"1\" class=\"dataframe\">\n",
       "  <thead>\n",
       "    <tr style=\"text-align: right;\">\n",
       "      <th></th>\n",
       "      <th>main_speaker</th>\n",
       "      <th>title</th>\n",
       "      <th>event</th>\n",
       "      <th>comments</th>\n",
       "    </tr>\n",
       "  </thead>\n",
       "  <tbody>\n",
       "    <tr>\n",
       "      <th>96</th>\n",
       "      <td>Richard Dawkins</td>\n",
       "      <td>Militant atheism</td>\n",
       "      <td>TED2002</td>\n",
       "      <td>6404</td>\n",
       "    </tr>\n",
       "    <tr>\n",
       "      <th>0</th>\n",
       "      <td>Ken Robinson</td>\n",
       "      <td>Do schools kill creativity?</td>\n",
       "      <td>TED2006</td>\n",
       "      <td>4553</td>\n",
       "    </tr>\n",
       "    <tr>\n",
       "      <th>644</th>\n",
       "      <td>Sam Harris</td>\n",
       "      <td>Science can answer moral questions</td>\n",
       "      <td>TED2010</td>\n",
       "      <td>3356</td>\n",
       "    </tr>\n",
       "    <tr>\n",
       "      <th>201</th>\n",
       "      <td>Jill Bolte Taylor</td>\n",
       "      <td>My stroke of insight</td>\n",
       "      <td>TED2008</td>\n",
       "      <td>2877</td>\n",
       "    </tr>\n",
       "    <tr>\n",
       "      <th>1787</th>\n",
       "      <td>David Chalmers</td>\n",
       "      <td>How do you explain consciousness?</td>\n",
       "      <td>TED2014</td>\n",
       "      <td>2673</td>\n",
       "    </tr>\n",
       "    <tr>\n",
       "      <th>954</th>\n",
       "      <td>Janet Echelman</td>\n",
       "      <td>Taking imagination seriously</td>\n",
       "      <td>TED2011</td>\n",
       "      <td>2492</td>\n",
       "    </tr>\n",
       "    <tr>\n",
       "      <th>840</th>\n",
       "      <td>Lesley Hazleton</td>\n",
       "      <td>On reading the Koran</td>\n",
       "      <td>TEDxRainier</td>\n",
       "      <td>2374</td>\n",
       "    </tr>\n",
       "    <tr>\n",
       "      <th>1346</th>\n",
       "      <td>Amy Cuddy</td>\n",
       "      <td>Your body language may shape who you are</td>\n",
       "      <td>TEDGlobal 2012</td>\n",
       "      <td>2290</td>\n",
       "    </tr>\n",
       "    <tr>\n",
       "      <th>661</th>\n",
       "      <td>Michael Specter</td>\n",
       "      <td>The danger of science denial</td>\n",
       "      <td>TED2010</td>\n",
       "      <td>2272</td>\n",
       "    </tr>\n",
       "    <tr>\n",
       "      <th>677</th>\n",
       "      <td>Simon Sinek</td>\n",
       "      <td>How great leaders inspire action</td>\n",
       "      <td>TEDxPuget Sound</td>\n",
       "      <td>1930</td>\n",
       "    </tr>\n",
       "  </tbody>\n",
       "</table>\n",
       "</div>"
      ],
      "text/plain": [
       "           main_speaker                                     title  \\\n",
       "96      Richard Dawkins                          Militant atheism   \n",
       "0          Ken Robinson               Do schools kill creativity?   \n",
       "644          Sam Harris        Science can answer moral questions   \n",
       "201   Jill Bolte Taylor                      My stroke of insight   \n",
       "1787     David Chalmers         How do you explain consciousness?   \n",
       "954      Janet Echelman              Taking imagination seriously   \n",
       "840     Lesley Hazleton                      On reading the Koran   \n",
       "1346          Amy Cuddy  Your body language may shape who you are   \n",
       "661     Michael Specter              The danger of science denial   \n",
       "677         Simon Sinek          How great leaders inspire action   \n",
       "\n",
       "                 event  comments  \n",
       "96             TED2002      6404  \n",
       "0              TED2006      4553  \n",
       "644            TED2010      3356  \n",
       "201            TED2008      2877  \n",
       "1787           TED2014      2673  \n",
       "954            TED2011      2492  \n",
       "840        TEDxRainier      2374  \n",
       "1346    TEDGlobal 2012      2290  \n",
       "661            TED2010      2272  \n",
       "677   TEDxPuget Sound       1930  "
      ]
     },
     "metadata": {},
     "output_type": "display_data"
    },
    {
     "data": {
      "image/png": "[encoded data removed]",
      "text/plain": [
       "<Figure size 720x360 with 1 Axes>"
      ]
     },
     "metadata": {
      "needs_background": "light"
     },
     "output_type": "display_data"
    }
   ],
   "source": [
    "print(\"Average comments = {}\".format(round(ted_data[\"comments\"].mean(), 2)))\n",
    "\n",
    "print(\"Median comments = {}\".format(round(ted_data[\"comments\"].median(), 2)))\n",
    "\n",
    "plt.figure(figsize=(10,5))\n",
    "display(ted_data[[\"main_speaker\", \"title\", \"event\", \"comments\"]].sort_values('comments', ascending=False).head(10))\n",
    "ax = sns.barplot(x=\"comments\", y=\"main_speaker\", data=ted_data.sort_values('comments', ascending=False)[:10])\n",
    "ax.set_title(\"Top Comments\", pad=10, fontdict={'fontsize': 20})\n",
    "plt.show()"
   ]
  },
  {
   "cell_type": "markdown",
   "metadata": {
    "papermill": {
     "duration": 0.053061,
     "end_time": "2020-10-22T23:48:38.165296",
     "exception": false,
     "start_time": "2020-10-22T23:48:38.112235",
     "status": "completed"
    },
    "tags": []
   },
   "source": [
    "* The most commented talk came from __Richard Dawkins__ for the talk titled \"__Militant atheism__\" hosted at TED in 2002, with 6404 comments, which is big compared to average comments of 191, and median of 118.\n",
    "* Quite a few of the top viewed talks also seem to have top comments on them, signalling that more views does attract more comments, as expected.\n",
    "<hr>\n",
    "\n",
    "Lets see if there is any correlation between views, comments and duration."
   ]
  },
  {
   "cell_type": "code",
   "execution_count": 10,
   "metadata": {
    "papermill": {
     "duration": 5.945997,
     "end_time": "2020-10-22T23:48:44.164349",
     "exception": false,
     "start_time": "2020-10-22T23:48:38.218352",
     "status": "completed"
    },
    "tags": []
   },
   "outputs": [
    {
     "data": {
      "text/html": [
       "<div>\n",
       "<style scoped>\n",
       "    .dataframe tbody tr th:only-of-type {\n",
       "        vertical-align: middle;\n",
       "    }\n",
       "\n",
       "    .dataframe tbody tr th {\n",
       "        vertical-align: top;\n",
       "    }\n",
       "\n",
       "    .dataframe thead th {\n",
       "        text-align: right;\n",
       "    }\n",
       "</style>\n",
       "<table border=\"1\" class=\"dataframe\">\n",
       "  <thead>\n",
       "    <tr style=\"text-align: right;\">\n",
       "      <th></th>\n",
       "      <th>views</th>\n",
       "      <th>comments</th>\n",
       "      <th>duration</th>\n",
       "    </tr>\n",
       "  </thead>\n",
       "  <tbody>\n",
       "    <tr>\n",
       "      <th>views</th>\n",
       "      <td>1.000000</td>\n",
       "      <td>0.530939</td>\n",
       "      <td>0.048754</td>\n",
       "    </tr>\n",
       "    <tr>\n",
       "      <th>comments</th>\n",
       "      <td>0.530939</td>\n",
       "      <td>1.000000</td>\n",
       "      <td>0.140712</td>\n",
       "    </tr>\n",
       "    <tr>\n",
       "      <th>duration</th>\n",
       "      <td>0.048754</td>\n",
       "      <td>0.140712</td>\n",
       "      <td>1.000000</td>\n",
       "    </tr>\n",
       "  </tbody>\n",
       "</table>\n",
       "</div>"
      ],
      "text/plain": [
       "             views  comments  duration\n",
       "views     1.000000  0.530939  0.048754\n",
       "comments  0.530939  1.000000  0.140712\n",
       "duration  0.048754  0.140712  1.000000"
      ]
     },
     "metadata": {},
     "output_type": "display_data"
    },
    {
     "data": {
      "image/png": "[encoded data removed]",
      "text/plain": [
       "<Figure size 540x540 with 12 Axes>"
      ]
     },
     "metadata": {
      "needs_background": "light"
     },
     "output_type": "display_data"
    }
   ],
   "source": [
    "sns.pairplot(data=ted_data, vars=[\"views\", \"comments\", \"duration\"])\n",
    "display(ted_data[[\"views\", \"comments\", \"duration\"]].corr())"
   ]
  },
  {
   "cell_type": "markdown",
   "metadata": {
    "papermill": {
     "duration": 0.056328,
     "end_time": "2020-10-22T23:48:44.277397",
     "exception": false,
     "start_time": "2020-10-22T23:48:44.221069",
     "status": "completed"
    },
    "tags": []
   },
   "source": [
    "* From the correlation table and pair plot, we can see that __views and comments have a corr factor of 0.5, suggesting medium to strong correlation__.\n",
    "* While duration have very weak correlation to views and comments, suggesting longer talks don't seem to gather more attention from the audience."
   ]
  },
  {
   "cell_type": "markdown",
   "metadata": {
    "papermill": {
     "duration": 0.055465,
     "end_time": "2020-10-22T23:48:44.392200",
     "exception": false,
     "start_time": "2020-10-22T23:48:44.336735",
     "status": "completed"
    },
    "tags": []
   },
   "source": [
    "Lets see which top 10 viewed talks also show up in the top 10 commented."
   ]
  },
  {
   "cell_type": "code",
   "execution_count": 11,
   "metadata": {
    "papermill": {
     "duration": 0.093542,
     "end_time": "2020-10-22T23:48:44.541500",
     "exception": false,
     "start_time": "2020-10-22T23:48:44.447958",
     "status": "completed"
    },
    "tags": []
   },
   "outputs": [
    {
     "data": {
      "text/html": [
       "<div>\n",
       "<style scoped>\n",
       "    .dataframe tbody tr th:only-of-type {\n",
       "        vertical-align: middle;\n",
       "    }\n",
       "\n",
       "    .dataframe tbody tr th {\n",
       "        vertical-align: top;\n",
       "    }\n",
       "\n",
       "    .dataframe thead th {\n",
       "        text-align: right;\n",
       "    }\n",
       "</style>\n",
       "<table border=\"1\" class=\"dataframe\">\n",
       "  <thead>\n",
       "    <tr style=\"text-align: right;\">\n",
       "      <th></th>\n",
       "      <th>name</th>\n",
       "      <th>title</th>\n",
       "      <th>views</th>\n",
       "      <th>comments</th>\n",
       "    </tr>\n",
       "  </thead>\n",
       "  <tbody>\n",
       "    <tr>\n",
       "      <th>0</th>\n",
       "      <td>Ken Robinson: Do schools kill creativity?</td>\n",
       "      <td>Do schools kill creativity?</td>\n",
       "      <td>47227110</td>\n",
       "      <td>4553</td>\n",
       "    </tr>\n",
       "    <tr>\n",
       "      <th>1</th>\n",
       "      <td>Amy Cuddy: Your body language may shape who yo...</td>\n",
       "      <td>Your body language may shape who you are</td>\n",
       "      <td>43155405</td>\n",
       "      <td>2290</td>\n",
       "    </tr>\n",
       "    <tr>\n",
       "      <th>2</th>\n",
       "      <td>Simon Sinek: How great leaders inspire action</td>\n",
       "      <td>How great leaders inspire action</td>\n",
       "      <td>34309432</td>\n",
       "      <td>1930</td>\n",
       "    </tr>\n",
       "    <tr>\n",
       "      <th>3</th>\n",
       "      <td>Jill Bolte Taylor: My stroke of insight</td>\n",
       "      <td>My stroke of insight</td>\n",
       "      <td>21190883</td>\n",
       "      <td>2877</td>\n",
       "    </tr>\n",
       "  </tbody>\n",
       "</table>\n",
       "</div>"
      ],
      "text/plain": [
       "                                                name  \\\n",
       "0          Ken Robinson: Do schools kill creativity?   \n",
       "1  Amy Cuddy: Your body language may shape who yo...   \n",
       "2      Simon Sinek: How great leaders inspire action   \n",
       "3            Jill Bolte Taylor: My stroke of insight   \n",
       "\n",
       "                                      title     views  comments  \n",
       "0               Do schools kill creativity?  47227110      4553  \n",
       "1  Your body language may shape who you are  43155405      2290  \n",
       "2          How great leaders inspire action  34309432      1930  \n",
       "3                      My stroke of insight  21190883      2877  "
      ]
     },
     "execution_count": 11,
     "metadata": {},
     "output_type": "execute_result"
    }
   ],
   "source": [
    "top_viewed = ted_data[[\"name\", \"title\", \"views\"]].sort_values(\"views\", ascending=False).head(10)\n",
    "top_commented = ted_data[[\"name\", \"comments\"]].sort_values(\"comments\", ascending=False).head(10)\n",
    "\n",
    "top_viewed.merge(top_commented, on=\"name\")"
   ]
  },
  {
   "cell_type": "markdown",
   "metadata": {
    "papermill": {
     "duration": 0.056025,
     "end_time": "2020-10-22T23:48:44.653981",
     "exception": false,
     "start_time": "2020-10-22T23:48:44.597956",
     "status": "completed"
    },
    "tags": []
   },
   "source": [
    "* As expected, out of top 10 between most viewed and most commented, 4 of them are common.\n",
    "* The 4 talks came from __Ken Robinson__, __Amy Cuddy__, __Simon Sinek__ and __Jill Bolte Taylor__."
   ]
  },
  {
   "cell_type": "code",
   "execution_count": 12,
   "metadata": {
    "papermill": {
     "duration": 0.349651,
     "end_time": "2020-10-22T23:48:45.059756",
     "exception": false,
     "start_time": "2020-10-22T23:48:44.710105",
     "status": "completed"
    },
    "tags": []
   },
   "outputs": [
    {
     "name": "stdout",
     "output_type": "stream",
     "text": [
      "Total no. of speakers = 2544\n"
     ]
    },
    {
     "data": {
      "text/plain": [
       "Writer          0.017689\n",
       "Artist          0.013365\n",
       "Designer        0.013365\n",
       "Journalist      0.012972\n",
       "Entrepreneur    0.012186\n",
       "Name: speaker_occupation, dtype: float64"
      ]
     },
     "metadata": {},
     "output_type": "display_data"
    },
    {
     "data": {
      "image/png": "[encoded data removed]",
      "text/plain": [
       "<Figure size 1080x360 with 1 Axes>"
      ]
     },
     "metadata": {
      "needs_background": "light"
     },
     "output_type": "display_data"
    }
   ],
   "source": [
    "print(\"Total no. of speakers = {}\".format(ted_data[\"speaker_occupation\"].value_counts().sum()))\n",
    "display(ted_data[\"speaker_occupation\"].value_counts(normalize=True).head())\n",
    "\n",
    "df = pd.DataFrame(data=ted_data[\"speaker_occupation\"].value_counts().head(10))\n",
    "\n",
    "df.reset_index(inplace=True)\n",
    "df.columns = [\"speaker_occupation\", \"count\"]\n",
    "\n",
    "plt.figure(figsize=(15,5))\n",
    "ax = sns.barplot(data=df, x=\"speaker_occupation\", y=\"count\")\n",
    "ax.set_title(\"Top speaker occupation\", pad=10, fontdict={'fontsize': 20})\n",
    "plt.show()"
   ]
  },
  {
   "cell_type": "markdown",
   "metadata": {
    "papermill": {
     "duration": 0.057627,
     "end_time": "2020-10-22T23:48:45.175899",
     "exception": false,
     "start_time": "2020-10-22T23:48:45.118272",
     "status": "completed"
    },
    "tags": []
   },
   "source": [
    "* __Writers__ seem to be most popular occupation of the speakers, followed by __Artist__, __Designer__, __Journalist__ and __Entrepreneur__.\n",
    "* But still __Writers__ seem to represent only about __1.7% of the total 2544__ total speakers."
   ]
  },
  {
   "cell_type": "markdown",
   "metadata": {
    "papermill": {
     "duration": 0.057308,
     "end_time": "2020-10-22T23:48:45.291888",
     "exception": false,
     "start_time": "2020-10-22T23:48:45.234580",
     "status": "completed"
    },
    "tags": []
   },
   "source": [
    "<h2>3: Top months and years with most talks</h2>"
   ]
  },
  {
   "cell_type": "code",
   "execution_count": 13,
   "metadata": {
    "papermill": {
     "duration": 0.530053,
     "end_time": "2020-10-22T23:48:45.879817",
     "exception": false,
     "start_time": "2020-10-22T23:48:45.349764",
     "status": "completed"
    },
    "tags": []
   },
   "outputs": [
    {
     "data": {
      "image/png": "[encoded data removed]",
      "text/plain": [
       "<Figure size 1080x360 with 1 Axes>"
      ]
     },
     "metadata": {
      "needs_background": "light"
     },
     "output_type": "display_data"
    }
   ],
   "source": [
    "months = ['Jan', 'Feb', 'Mar', 'Apr', 'May', 'Jun', 'Jul', 'Aug', 'Sep', 'Oct', 'Nov', 'Dec']\n",
    "ted_data['month'] = ted_data['film_date'].apply(lambda x: months[x.month - 1])\n",
    "ted_data['year'] = ted_data['film_date'].apply(lambda x: x.year)\n",
    "talk_months = ted_data['month'].value_counts().reset_index()\n",
    "\n",
    "talk_months.columns = [\"month\", \"no_of_talks\"]\n",
    "\n",
    "plt.figure(figsize=(15,5))\n",
    "ax = sns.barplot(x=\"month\", y=\"no_of_talks\", data=talk_months, order=months)\n",
    "ax.set_title(\"Number of talks over months\", pad=10, fontdict={'fontsize': 20})\n",
    "plt.show()"
   ]
  },
  {
   "cell_type": "markdown",
   "metadata": {
    "papermill": {
     "duration": 0.058708,
     "end_time": "2020-10-22T23:48:45.997656",
     "exception": false,
     "start_time": "2020-10-22T23:48:45.938948",
     "status": "completed"
    },
    "tags": []
   },
   "source": [
    "* Most of the talks seem to happen in the month of February, followed by March.\n",
    "* January and August seem to be the least popular for talks to be filmed."
   ]
  },
  {
   "cell_type": "code",
   "execution_count": 14,
   "metadata": {
    "papermill": {
     "duration": 0.484335,
     "end_time": "2020-10-22T23:48:46.541272",
     "exception": false,
     "start_time": "2020-10-22T23:48:46.056937",
     "status": "completed"
    },
    "tags": []
   },
   "outputs": [
    {
     "data": {
      "image/png": "[encoded data removed]",
      "text/plain": [
       "<Figure size 1296x360 with 1 Axes>"
      ]
     },
     "metadata": {
      "needs_background": "light"
     },
     "output_type": "display_data"
    }
   ],
   "source": [
    "talk_years = ted_data['year'].value_counts().reset_index()\n",
    "\n",
    "talk_years.columns = [\"year\", \"no_of_talks\"]\n",
    "\n",
    "plt.figure(figsize=(18,5))\n",
    "ax = sns.barplot(x=\"year\", y=\"no_of_talks\", data=talk_years)\n",
    "ax.set_title(\"Number of talks over years\", pad=10, fontdict={'fontsize': 20})\n",
    "plt.show()"
   ]
  },
  {
   "cell_type": "markdown",
   "metadata": {
    "papermill": {
     "duration": 0.066197,
     "end_time": "2020-10-22T23:48:46.680202",
     "exception": false,
     "start_time": "2020-10-22T23:48:46.614005",
     "status": "completed"
    },
    "tags": []
   },
   "source": [
    "* TED talks seem to have increased drmatically from 2008 onwards."
   ]
  },
  {
   "cell_type": "markdown",
   "metadata": {
    "papermill": {
     "duration": 0.077372,
     "end_time": "2020-10-22T23:48:46.827638",
     "exception": false,
     "start_time": "2020-10-22T23:48:46.750266",
     "status": "completed"
    },
    "tags": []
   },
   "source": [
    "<h2>4: Top ratings</h2>"
   ]
  },
  {
   "cell_type": "code",
   "execution_count": 15,
   "metadata": {
    "papermill": {
     "duration": 0.092783,
     "end_time": "2020-10-22T23:48:47.010032",
     "exception": false,
     "start_time": "2020-10-22T23:48:46.917249",
     "status": "completed"
    },
    "tags": []
   },
   "outputs": [
    {
     "name": "stdout",
     "output_type": "stream",
     "text": [
      "Value: [{'id': 7, 'name': 'Funny', 'count': 19645}, {'id': 1, 'name': 'Beautiful', 'count': 4573}, {'id': 9, 'name': 'Ingenious', 'count': 6073}, {'id': 3, 'name': 'Courageous', 'count': 3253}, {'id': 11, 'name': 'Longwinded', 'count': 387}, {'id': 2, 'name': 'Confusing', 'count': 242}, {'id': 8, 'name': 'Informative', 'count': 7346}, {'id': 22, 'name': 'Fascinating', 'count': 10581}, {'id': 21, 'name': 'Unconvincing', 'count': 300}, {'id': 24, 'name': 'Persuasive', 'count': 10704}, {'id': 23, 'name': 'Jaw-dropping', 'count': 4439}, {'id': 25, 'name': 'OK', 'count': 1174}, {'id': 26, 'name': 'Obnoxious', 'count': 209}, {'id': 10, 'name': 'Inspiring', 'count': 24924}]\n",
      "Type: <class 'str'>\n",
      "\n",
      "\n",
      "Value: [{'id': 7, 'name': 'Funny', 'count': 544}, {'id': 3, 'name': 'Courageous', 'count': 139}, {'id': 2, 'name': 'Confusing', 'count': 62}, {'id': 1, 'name': 'Beautiful', 'count': 58}, {'id': 21, 'name': 'Unconvincing', 'count': 258}, {'id': 11, 'name': 'Longwinded', 'count': 113}, {'id': 8, 'name': 'Informative', 'count': 443}, {'id': 10, 'name': 'Inspiring', 'count': 413}, {'id': 22, 'name': 'Fascinating', 'count': 132}, {'id': 9, 'name': 'Ingenious', 'count': 56}, {'id': 24, 'name': 'Persuasive', 'count': 268}, {'id': 23, 'name': 'Jaw-dropping', 'count': 116}, {'id': 26, 'name': 'Obnoxious', 'count': 131}, {'id': 25, 'name': 'OK', 'count': 203}]\n",
      "Type: <class 'str'>\n",
      "\n",
      "\n"
     ]
    }
   ],
   "source": [
    "# print first few values in the ratings column to understand its structure.\n",
    "for i in ted_data['ratings'][0:2]:\n",
    "    print(\"Value: {}\".format(i))\n",
    "    print(\"Type: {}\".format(type(i)))\n",
    "    print(\"\\n\")\n"
   ]
  },
  {
   "cell_type": "markdown",
   "metadata": {
    "papermill": {
     "duration": 0.062517,
     "end_time": "2020-10-22T23:48:47.136014",
     "exception": false,
     "start_time": "2020-10-22T23:48:47.073497",
     "status": "completed"
    },
    "tags": []
   },
   "source": [
    "* Apparently looks like the __ratings__ columns has list in it, but the data type for it shows to be string.\n",
    "* So, we first we need to convert this into a list format."
   ]
  },
  {
   "cell_type": "code",
   "execution_count": 16,
   "metadata": {
    "papermill": {
     "duration": 0.760032,
     "end_time": "2020-10-22T23:48:47.959562",
     "exception": false,
     "start_time": "2020-10-22T23:48:47.199530",
     "status": "completed"
    },
    "tags": []
   },
   "outputs": [],
   "source": [
    "import ast\n",
    "ted_data[\"ratings\"] = ted_data[\"ratings\"].apply(lambda x: ast.literal_eval(x))"
   ]
  },
  {
   "cell_type": "code",
   "execution_count": 17,
   "metadata": {
    "papermill": {
     "duration": 0.076125,
     "end_time": "2020-10-22T23:48:48.099940",
     "exception": false,
     "start_time": "2020-10-22T23:48:48.023815",
     "status": "completed"
    },
    "tags": []
   },
   "outputs": [
    {
     "name": "stdout",
     "output_type": "stream",
     "text": [
      "Value: [{'id': 7, 'name': 'Funny', 'count': 19645}, {'id': 1, 'name': 'Beautiful', 'count': 4573}, {'id': 9, 'name': 'Ingenious', 'count': 6073}, {'id': 3, 'name': 'Courageous', 'count': 3253}, {'id': 11, 'name': 'Longwinded', 'count': 387}, {'id': 2, 'name': 'Confusing', 'count': 242}, {'id': 8, 'name': 'Informative', 'count': 7346}, {'id': 22, 'name': 'Fascinating', 'count': 10581}, {'id': 21, 'name': 'Unconvincing', 'count': 300}, {'id': 24, 'name': 'Persuasive', 'count': 10704}, {'id': 23, 'name': 'Jaw-dropping', 'count': 4439}, {'id': 25, 'name': 'OK', 'count': 1174}, {'id': 26, 'name': 'Obnoxious', 'count': 209}, {'id': 10, 'name': 'Inspiring', 'count': 24924}]\n",
      "Type: <class 'list'>\n",
      "\n",
      "\n",
      "Value: [{'id': 7, 'name': 'Funny', 'count': 544}, {'id': 3, 'name': 'Courageous', 'count': 139}, {'id': 2, 'name': 'Confusing', 'count': 62}, {'id': 1, 'name': 'Beautiful', 'count': 58}, {'id': 21, 'name': 'Unconvincing', 'count': 258}, {'id': 11, 'name': 'Longwinded', 'count': 113}, {'id': 8, 'name': 'Informative', 'count': 443}, {'id': 10, 'name': 'Inspiring', 'count': 413}, {'id': 22, 'name': 'Fascinating', 'count': 132}, {'id': 9, 'name': 'Ingenious', 'count': 56}, {'id': 24, 'name': 'Persuasive', 'count': 268}, {'id': 23, 'name': 'Jaw-dropping', 'count': 116}, {'id': 26, 'name': 'Obnoxious', 'count': 131}, {'id': 25, 'name': 'OK', 'count': 203}]\n",
      "Type: <class 'list'>\n",
      "\n",
      "\n"
     ]
    }
   ],
   "source": [
    "for i in ted_data['ratings'][0:2]:\n",
    "    print(\"Value: {}\".format(i))\n",
    "    print(\"Type: {}\".format(type(i)))\n",
    "    print(\"\\n\")"
   ]
  },
  {
   "cell_type": "markdown",
   "metadata": {
    "papermill": {
     "duration": 0.062009,
     "end_time": "2020-10-22T23:48:48.229112",
     "exception": false,
     "start_time": "2020-10-22T23:48:48.167103",
     "status": "completed"
    },
    "tags": []
   },
   "source": [
    "* Now the ratings column is converted to a list.\n",
    "* Lets create another dataframe for ratings."
   ]
  },
  {
   "cell_type": "code",
   "execution_count": 18,
   "metadata": {
    "papermill": {
     "duration": 8.797504,
     "end_time": "2020-10-22T23:48:57.089511",
     "exception": false,
     "start_time": "2020-10-22T23:48:48.292007",
     "status": "completed"
    },
    "tags": []
   },
   "outputs": [
    {
     "data": {
      "text/html": [
       "<div>\n",
       "<style scoped>\n",
       "    .dataframe tbody tr th:only-of-type {\n",
       "        vertical-align: middle;\n",
       "    }\n",
       "\n",
       "    .dataframe tbody tr th {\n",
       "        vertical-align: top;\n",
       "    }\n",
       "\n",
       "    .dataframe thead th {\n",
       "        text-align: right;\n",
       "    }\n",
       "</style>\n",
       "<table border=\"1\" class=\"dataframe\">\n",
       "  <thead>\n",
       "    <tr style=\"text-align: right;\">\n",
       "      <th></th>\n",
       "      <th>Funny</th>\n",
       "      <th>Beautiful</th>\n",
       "      <th>Ingenious</th>\n",
       "      <th>Courageous</th>\n",
       "      <th>Longwinded</th>\n",
       "      <th>Confusing</th>\n",
       "      <th>Informative</th>\n",
       "      <th>Fascinating</th>\n",
       "      <th>Unconvincing</th>\n",
       "      <th>Persuasive</th>\n",
       "      <th>Jaw-dropping</th>\n",
       "      <th>OK</th>\n",
       "      <th>Obnoxious</th>\n",
       "      <th>Inspiring</th>\n",
       "    </tr>\n",
       "  </thead>\n",
       "  <tbody>\n",
       "    <tr>\n",
       "      <th>0</th>\n",
       "      <td>19645</td>\n",
       "      <td>4573</td>\n",
       "      <td>6073</td>\n",
       "      <td>3253</td>\n",
       "      <td>387</td>\n",
       "      <td>242</td>\n",
       "      <td>7346</td>\n",
       "      <td>10581</td>\n",
       "      <td>300</td>\n",
       "      <td>10704</td>\n",
       "      <td>4439</td>\n",
       "      <td>1174</td>\n",
       "      <td>209</td>\n",
       "      <td>24924</td>\n",
       "    </tr>\n",
       "    <tr>\n",
       "      <th>1</th>\n",
       "      <td>544</td>\n",
       "      <td>58</td>\n",
       "      <td>56</td>\n",
       "      <td>139</td>\n",
       "      <td>113</td>\n",
       "      <td>62</td>\n",
       "      <td>443</td>\n",
       "      <td>132</td>\n",
       "      <td>258</td>\n",
       "      <td>268</td>\n",
       "      <td>116</td>\n",
       "      <td>203</td>\n",
       "      <td>131</td>\n",
       "      <td>413</td>\n",
       "    </tr>\n",
       "    <tr>\n",
       "      <th>2</th>\n",
       "      <td>964</td>\n",
       "      <td>60</td>\n",
       "      <td>183</td>\n",
       "      <td>45</td>\n",
       "      <td>78</td>\n",
       "      <td>27</td>\n",
       "      <td>395</td>\n",
       "      <td>166</td>\n",
       "      <td>104</td>\n",
       "      <td>230</td>\n",
       "      <td>54</td>\n",
       "      <td>146</td>\n",
       "      <td>142</td>\n",
       "      <td>230</td>\n",
       "    </tr>\n",
       "    <tr>\n",
       "      <th>3</th>\n",
       "      <td>59</td>\n",
       "      <td>291</td>\n",
       "      <td>105</td>\n",
       "      <td>760</td>\n",
       "      <td>53</td>\n",
       "      <td>32</td>\n",
       "      <td>380</td>\n",
       "      <td>132</td>\n",
       "      <td>36</td>\n",
       "      <td>460</td>\n",
       "      <td>230</td>\n",
       "      <td>85</td>\n",
       "      <td>35</td>\n",
       "      <td>1070</td>\n",
       "    </tr>\n",
       "    <tr>\n",
       "      <th>4</th>\n",
       "      <td>1390</td>\n",
       "      <td>942</td>\n",
       "      <td>3202</td>\n",
       "      <td>318</td>\n",
       "      <td>110</td>\n",
       "      <td>72</td>\n",
       "      <td>5433</td>\n",
       "      <td>4606</td>\n",
       "      <td>67</td>\n",
       "      <td>2542</td>\n",
       "      <td>3736</td>\n",
       "      <td>248</td>\n",
       "      <td>61</td>\n",
       "      <td>2893</td>\n",
       "    </tr>\n",
       "  </tbody>\n",
       "</table>\n",
       "</div>"
      ],
      "text/plain": [
       "   Funny  Beautiful  Ingenious  Courageous  Longwinded  Confusing  \\\n",
       "0  19645       4573       6073        3253         387        242   \n",
       "1    544         58         56         139         113         62   \n",
       "2    964         60        183          45          78         27   \n",
       "3     59        291        105         760          53         32   \n",
       "4   1390        942       3202         318         110         72   \n",
       "\n",
       "   Informative  Fascinating  Unconvincing  Persuasive  Jaw-dropping    OK  \\\n",
       "0         7346        10581           300       10704          4439  1174   \n",
       "1          443          132           258         268           116   203   \n",
       "2          395          166           104         230            54   146   \n",
       "3          380          132            36         460           230    85   \n",
       "4         5433         4606            67        2542          3736   248   \n",
       "\n",
       "   Obnoxious  Inspiring  \n",
       "0        209      24924  \n",
       "1        131        413  \n",
       "2        142        230  \n",
       "3         35       1070  \n",
       "4         61       2893  "
      ]
     },
     "execution_count": 18,
     "metadata": {},
     "output_type": "execute_result"
    }
   ],
   "source": [
    "ratings_list = []\n",
    "for x in ted_data[\"ratings\"]:\n",
    "    d = (pd.json_normalize(x)\n",
    "    .drop(columns=\"id\")\n",
    "    .set_index(keys=\"name\")\n",
    "     .T)\n",
    "    ratings_list.append(d)\n",
    "\n",
    "ratings_df = pd.concat(ratings_list)\n",
    "ratings_df.reset_index(drop=True, inplace=True)\n",
    "ratings_df.head()"
   ]
  },
  {
   "cell_type": "markdown",
   "metadata": {
    "papermill": {
     "duration": 0.061542,
     "end_time": "2020-10-22T23:48:57.212329",
     "exception": false,
     "start_time": "2020-10-22T23:48:57.150787",
     "status": "completed"
    },
    "tags": []
   },
   "source": [
    "Lets see which are the top Funny, top Confusing and top Inspiring talks."
   ]
  },
  {
   "cell_type": "code",
   "execution_count": 19,
   "metadata": {
    "papermill": {
     "duration": 0.075778,
     "end_time": "2020-10-22T23:48:57.349574",
     "exception": false,
     "start_time": "2020-10-22T23:48:57.273796",
     "status": "completed"
    },
    "tags": []
   },
   "outputs": [],
   "source": [
    "speaker_ratings_df = pd.concat([ted_data[[\"main_speaker\", \"title\"]], ratings_df], axis=1)"
   ]
  },
  {
   "cell_type": "code",
   "execution_count": 20,
   "metadata": {
    "papermill": {
     "duration": 0.31115,
     "end_time": "2020-10-22T23:48:57.722602",
     "exception": false,
     "start_time": "2020-10-22T23:48:57.411452",
     "status": "completed"
    },
    "tags": []
   },
   "outputs": [
    {
     "data": {
      "text/html": [
       "<div>\n",
       "<style scoped>\n",
       "    .dataframe tbody tr th:only-of-type {\n",
       "        vertical-align: middle;\n",
       "    }\n",
       "\n",
       "    .dataframe tbody tr th {\n",
       "        vertical-align: top;\n",
       "    }\n",
       "\n",
       "    .dataframe thead th {\n",
       "        text-align: right;\n",
       "    }\n",
       "</style>\n",
       "<table border=\"1\" class=\"dataframe\">\n",
       "  <thead>\n",
       "    <tr style=\"text-align: right;\">\n",
       "      <th></th>\n",
       "      <th>main_speaker</th>\n",
       "      <th>title</th>\n",
       "      <th>Funny</th>\n",
       "    </tr>\n",
       "  </thead>\n",
       "  <tbody>\n",
       "    <tr>\n",
       "      <th>0</th>\n",
       "      <td>Ken Robinson</td>\n",
       "      <td>Do schools kill creativity?</td>\n",
       "      <td>19645</td>\n",
       "    </tr>\n",
       "    <tr>\n",
       "      <th>2114</th>\n",
       "      <td>James Veitch</td>\n",
       "      <td>This is what happens when you reply to spam email</td>\n",
       "      <td>7731</td>\n",
       "    </tr>\n",
       "    <tr>\n",
       "      <th>2161</th>\n",
       "      <td>Tim Urban</td>\n",
       "      <td>Inside the mind of a master procrastinator</td>\n",
       "      <td>7445</td>\n",
       "    </tr>\n",
       "    <tr>\n",
       "      <th>1129</th>\n",
       "      <td>Shawn Achor</td>\n",
       "      <td>The happy secret to better work</td>\n",
       "      <td>7315</td>\n",
       "    </tr>\n",
       "    <tr>\n",
       "      <th>675</th>\n",
       "      <td>Sebastian Wernicke</td>\n",
       "      <td>Lies, damned lies and statistics (about TEDTalks)</td>\n",
       "      <td>5552</td>\n",
       "    </tr>\n",
       "    <tr>\n",
       "      <th>837</th>\n",
       "      <td>Brené Brown</td>\n",
       "      <td>The power of vulnerability</td>\n",
       "      <td>5225</td>\n",
       "    </tr>\n",
       "    <tr>\n",
       "      <th>452</th>\n",
       "      <td>Mary Roach</td>\n",
       "      <td>10 things you didn't know about orgasm</td>\n",
       "      <td>4166</td>\n",
       "    </tr>\n",
       "    <tr>\n",
       "      <th>685</th>\n",
       "      <td>Julia Sweeney</td>\n",
       "      <td>It's time for \"The Talk\"</td>\n",
       "      <td>4025</td>\n",
       "    </tr>\n",
       "    <tr>\n",
       "      <th>747</th>\n",
       "      <td>Maz Jobrani</td>\n",
       "      <td>Did you hear the one about the Iranian-American?</td>\n",
       "      <td>4013</td>\n",
       "    </tr>\n",
       "    <tr>\n",
       "      <th>692</th>\n",
       "      <td>Ken Robinson</td>\n",
       "      <td>Bring on the learning revolution!</td>\n",
       "      <td>3000</td>\n",
       "    </tr>\n",
       "  </tbody>\n",
       "</table>\n",
       "</div>"
      ],
      "text/plain": [
       "            main_speaker                                              title  \\\n",
       "0           Ken Robinson                        Do schools kill creativity?   \n",
       "2114        James Veitch  This is what happens when you reply to spam email   \n",
       "2161           Tim Urban         Inside the mind of a master procrastinator   \n",
       "1129         Shawn Achor                    The happy secret to better work   \n",
       "675   Sebastian Wernicke  Lies, damned lies and statistics (about TEDTalks)   \n",
       "837          Brené Brown                         The power of vulnerability   \n",
       "452           Mary Roach             10 things you didn't know about orgasm   \n",
       "685        Julia Sweeney                           It's time for \"The Talk\"   \n",
       "747          Maz Jobrani   Did you hear the one about the Iranian-American?   \n",
       "692         Ken Robinson                  Bring on the learning revolution!   \n",
       "\n",
       "      Funny  \n",
       "0     19645  \n",
       "2114   7731  \n",
       "2161   7445  \n",
       "1129   7315  \n",
       "675    5552  \n",
       "837    5225  \n",
       "452    4166  \n",
       "685    4025  \n",
       "747    4013  \n",
       "692    3000  "
      ]
     },
     "metadata": {},
     "output_type": "display_data"
    },
    {
     "data": {
      "image/png": "[encoded data removed]",
      "text/plain": [
       "<Figure size 1080x360 with 1 Axes>"
      ]
     },
     "metadata": {
      "needs_background": "light"
     },
     "output_type": "display_data"
    }
   ],
   "source": [
    "display(speaker_ratings_df[[\"main_speaker\", \"title\", \"Funny\"]].sort_values(\"Funny\", ascending=False).head(10))\n",
    "\n",
    "plt.figure(figsize=(15,5))\n",
    "ax = sns.barplot(data=speaker_ratings_df.sort_values(\"Funny\", ascending=False).head(10), \n",
    "            y=\"main_speaker\", x=\"Funny\", ci=None) # ci=None is needed to remove the error bars\n",
    "ax.set_title(\"Top Funny talks\", pad=10, fontdict={'fontsize': 20})\n",
    "plt.show()"
   ]
  },
  {
   "cell_type": "markdown",
   "metadata": {
    "papermill": {
     "duration": 0.073359,
     "end_time": "2020-10-22T23:48:57.863046",
     "exception": false,
     "start_time": "2020-10-22T23:48:57.789687",
     "status": "completed"
    },
    "tags": []
   },
   "source": [
    "* __Ken Robinson__'s talk titled __Do schools kill creativity__ seems to be most funniest talk with more then double votes then the 2nd funniest talk by __James Veitch__'s titled __This .is what happens when you reply to spam email__\n",
    "* __Ken Robinson__ also had another talk titled __Bring on the learning revolution!__ that shows up in the top 10 most funny talks."
   ]
  },
  {
   "cell_type": "code",
   "execution_count": 21,
   "metadata": {
    "papermill": {
     "duration": 0.324087,
     "end_time": "2020-10-22T23:48:58.264161",
     "exception": false,
     "start_time": "2020-10-22T23:48:57.940074",
     "status": "completed"
    },
    "tags": []
   },
   "outputs": [
    {
     "data": {
      "text/html": [
       "<div>\n",
       "<style scoped>\n",
       "    .dataframe tbody tr th:only-of-type {\n",
       "        vertical-align: middle;\n",
       "    }\n",
       "\n",
       "    .dataframe tbody tr th {\n",
       "        vertical-align: top;\n",
       "    }\n",
       "\n",
       "    .dataframe thead th {\n",
       "        text-align: right;\n",
       "    }\n",
       "</style>\n",
       "<table border=\"1\" class=\"dataframe\">\n",
       "  <thead>\n",
       "    <tr style=\"text-align: right;\">\n",
       "      <th></th>\n",
       "      <th>main_speaker</th>\n",
       "      <th>title</th>\n",
       "      <th>Confusing</th>\n",
       "    </tr>\n",
       "  </thead>\n",
       "  <tbody>\n",
       "    <tr>\n",
       "      <th>494</th>\n",
       "      <td>Elaine Morgan</td>\n",
       "      <td>I believe we evolved from aquatic apes</td>\n",
       "      <td>531</td>\n",
       "    </tr>\n",
       "    <tr>\n",
       "      <th>311</th>\n",
       "      <td>Garrett Lisi</td>\n",
       "      <td>An 8-dimensional model of the universe</td>\n",
       "      <td>376</td>\n",
       "    </tr>\n",
       "    <tr>\n",
       "      <th>5</th>\n",
       "      <td>Tony Robbins</td>\n",
       "      <td>Why we do what we do</td>\n",
       "      <td>301</td>\n",
       "    </tr>\n",
       "    <tr>\n",
       "      <th>201</th>\n",
       "      <td>Jill Bolte Taylor</td>\n",
       "      <td>My stroke of insight</td>\n",
       "      <td>289</td>\n",
       "    </tr>\n",
       "    <tr>\n",
       "      <th>208</th>\n",
       "      <td>Clifford Stoll</td>\n",
       "      <td>The call to learn</td>\n",
       "      <td>278</td>\n",
       "    </tr>\n",
       "    <tr>\n",
       "      <th>165</th>\n",
       "      <td>Philippe Starck</td>\n",
       "      <td>Design and destiny</td>\n",
       "      <td>276</td>\n",
       "    </tr>\n",
       "    <tr>\n",
       "      <th>262</th>\n",
       "      <td>Keith Barry</td>\n",
       "      <td>Brain magic</td>\n",
       "      <td>273</td>\n",
       "    </tr>\n",
       "    <tr>\n",
       "      <th>481</th>\n",
       "      <td>Daniel Libeskind</td>\n",
       "      <td>17 words of architectural inspiration</td>\n",
       "      <td>244</td>\n",
       "    </tr>\n",
       "    <tr>\n",
       "      <th>0</th>\n",
       "      <td>Ken Robinson</td>\n",
       "      <td>Do schools kill creativity?</td>\n",
       "      <td>242</td>\n",
       "    </tr>\n",
       "    <tr>\n",
       "      <th>29</th>\n",
       "      <td>Dan Gilbert</td>\n",
       "      <td>The surprising science of happiness</td>\n",
       "      <td>241</td>\n",
       "    </tr>\n",
       "  </tbody>\n",
       "</table>\n",
       "</div>"
      ],
      "text/plain": [
       "          main_speaker                                   title  Confusing\n",
       "494      Elaine Morgan  I believe we evolved from aquatic apes        531\n",
       "311       Garrett Lisi  An 8-dimensional model of the universe        376\n",
       "5         Tony Robbins                    Why we do what we do        301\n",
       "201  Jill Bolte Taylor                    My stroke of insight        289\n",
       "208     Clifford Stoll                       The call to learn        278\n",
       "165    Philippe Starck                      Design and destiny        276\n",
       "262        Keith Barry                             Brain magic        273\n",
       "481   Daniel Libeskind   17 words of architectural inspiration        244\n",
       "0         Ken Robinson             Do schools kill creativity?        242\n",
       "29         Dan Gilbert     The surprising science of happiness        241"
      ]
     },
     "metadata": {},
     "output_type": "display_data"
    },
    {
     "data": {
      "image/png": "[encoded data removed]",
      "text/plain": [
       "<Figure size 1080x360 with 1 Axes>"
      ]
     },
     "metadata": {
      "needs_background": "light"
     },
     "output_type": "display_data"
    }
   ],
   "source": [
    "display(speaker_ratings_df[[\"main_speaker\", \"title\", \"Confusing\"]].sort_values(\"Confusing\", ascending=False).head(10))\n",
    "\n",
    "plt.figure(figsize=(15,5))\n",
    "ax = sns.barplot(data=speaker_ratings_df.sort_values(\"Confusing\", ascending=False).head(10), \n",
    "            y=\"main_speaker\", x=\"Confusing\", ci=None) # ci=None is needed to remove the error bars\n",
    "ax.set_title(\"Top Confusing talks\", pad=10, fontdict={'fontsize': 20})\n",
    "plt.show()"
   ]
  },
  {
   "cell_type": "markdown",
   "metadata": {
    "papermill": {
     "duration": 0.064561,
     "end_time": "2020-10-22T23:48:58.393901",
     "exception": false,
     "start_time": "2020-10-22T23:48:58.329340",
     "status": "completed"
    },
    "tags": []
   },
   "source": [
    "* Talk titled __I believe we evolved from aquatic apes__ by __Elaine Morgan__ seems to be most confusing for viewers.\n",
    "* Interestingly, __Ken Robinson__'s talk __Do schools kill creativity__ also is in the top 10 confusing talk, while it was also the most funniest talk."
   ]
  },
  {
   "cell_type": "code",
   "execution_count": 22,
   "metadata": {
    "papermill": {
     "duration": 0.325019,
     "end_time": "2020-10-22T23:48:58.784114",
     "exception": false,
     "start_time": "2020-10-22T23:48:58.459095",
     "status": "completed"
    },
    "tags": []
   },
   "outputs": [
    {
     "data": {
      "text/html": [
       "<div>\n",
       "<style scoped>\n",
       "    .dataframe tbody tr th:only-of-type {\n",
       "        vertical-align: middle;\n",
       "    }\n",
       "\n",
       "    .dataframe tbody tr th {\n",
       "        vertical-align: top;\n",
       "    }\n",
       "\n",
       "    .dataframe thead th {\n",
       "        text-align: right;\n",
       "    }\n",
       "</style>\n",
       "<table border=\"1\" class=\"dataframe\">\n",
       "  <thead>\n",
       "    <tr style=\"text-align: right;\">\n",
       "      <th></th>\n",
       "      <th>main_speaker</th>\n",
       "      <th>title</th>\n",
       "      <th>Inspiring</th>\n",
       "    </tr>\n",
       "  </thead>\n",
       "  <tbody>\n",
       "    <tr>\n",
       "      <th>0</th>\n",
       "      <td>Ken Robinson</td>\n",
       "      <td>Do schools kill creativity?</td>\n",
       "      <td>24924</td>\n",
       "    </tr>\n",
       "    <tr>\n",
       "      <th>677</th>\n",
       "      <td>Simon Sinek</td>\n",
       "      <td>How great leaders inspire action</td>\n",
       "      <td>21564</td>\n",
       "    </tr>\n",
       "    <tr>\n",
       "      <th>837</th>\n",
       "      <td>Brené Brown</td>\n",
       "      <td>The power of vulnerability</td>\n",
       "      <td>21444</td>\n",
       "    </tr>\n",
       "    <tr>\n",
       "      <th>1346</th>\n",
       "      <td>Amy Cuddy</td>\n",
       "      <td>Your body language may shape who you are</td>\n",
       "      <td>21210</td>\n",
       "    </tr>\n",
       "    <tr>\n",
       "      <th>1030</th>\n",
       "      <td>Steve Jobs</td>\n",
       "      <td>How to live before you die</td>\n",
       "      <td>17290</td>\n",
       "    </tr>\n",
       "    <tr>\n",
       "      <th>201</th>\n",
       "      <td>Jill Bolte Taylor</td>\n",
       "      <td>My stroke of insight</td>\n",
       "      <td>16918</td>\n",
       "    </tr>\n",
       "    <tr>\n",
       "      <th>1916</th>\n",
       "      <td>Guy Winch</td>\n",
       "      <td>Why we all need to practice emotional first aid</td>\n",
       "      <td>13398</td>\n",
       "    </tr>\n",
       "    <tr>\n",
       "      <th>1129</th>\n",
       "      <td>Shawn Achor</td>\n",
       "      <td>The happy secret to better work</td>\n",
       "      <td>11213</td>\n",
       "    </tr>\n",
       "    <tr>\n",
       "      <th>1163</th>\n",
       "      <td>Susan Cain</td>\n",
       "      <td>The power of introverts</td>\n",
       "      <td>10218</td>\n",
       "    </tr>\n",
       "    <tr>\n",
       "      <th>530</th>\n",
       "      <td>Chimamanda Ngozi Adichie</td>\n",
       "      <td>The danger of a single story</td>\n",
       "      <td>9566</td>\n",
       "    </tr>\n",
       "  </tbody>\n",
       "</table>\n",
       "</div>"
      ],
      "text/plain": [
       "                  main_speaker  \\\n",
       "0                 Ken Robinson   \n",
       "677                Simon Sinek   \n",
       "837                Brené Brown   \n",
       "1346                 Amy Cuddy   \n",
       "1030                Steve Jobs   \n",
       "201          Jill Bolte Taylor   \n",
       "1916                 Guy Winch   \n",
       "1129               Shawn Achor   \n",
       "1163                Susan Cain   \n",
       "530   Chimamanda Ngozi Adichie   \n",
       "\n",
       "                                                title  Inspiring  \n",
       "0                         Do schools kill creativity?      24924  \n",
       "677                  How great leaders inspire action      21564  \n",
       "837                        The power of vulnerability      21444  \n",
       "1346         Your body language may shape who you are      21210  \n",
       "1030                       How to live before you die      17290  \n",
       "201                              My stroke of insight      16918  \n",
       "1916  Why we all need to practice emotional first aid      13398  \n",
       "1129                  The happy secret to better work      11213  \n",
       "1163                          The power of introverts      10218  \n",
       "530                      The danger of a single story       9566  "
      ]
     },
     "metadata": {},
     "output_type": "display_data"
    },
    {
     "data": {
      "image/png": "[encoded data removed]",
      "text/plain": [
       "<Figure size 1080x360 with 1 Axes>"
      ]
     },
     "metadata": {
      "needs_background": "light"
     },
     "output_type": "display_data"
    }
   ],
   "source": [
    "display(speaker_ratings_df[[\"main_speaker\", \"title\", \"Inspiring\"]].sort_values(\"Inspiring\", ascending=False).head(10))\n",
    "\n",
    "plt.figure(figsize=(15,5))\n",
    "ax = sns.barplot(data=speaker_ratings_df.sort_values(\"Inspiring\", ascending=False).head(10), \n",
    "            y=\"main_speaker\", x=\"Inspiring\", ci=None) # ci=None is needed to remove the error bars\n",
    "ax.set_title(\"Top Inspiring talks\", pad=10, fontdict={'fontsize': 20})\n",
    "plt.show()"
   ]
  },
  {
   "cell_type": "markdown",
   "metadata": {
    "papermill": {
     "duration": 0.067187,
     "end_time": "2020-10-22T23:48:58.918695",
     "exception": false,
     "start_time": "2020-10-22T23:48:58.851508",
     "status": "completed"
    },
    "tags": []
   },
   "source": [
    "* Once again here __Ken Robinson__'s talk seems to be most inspiring, followed closely by __Simon Sinek__'s talk titled __How great leaders inspire action__.\n",
    "* __Steve Jobs__'s talk __How to live before you die__ is also amongst the top 10 inspiring talks."
   ]
  },
  {
   "cell_type": "code",
   "execution_count": 23,
   "metadata": {
    "papermill": {
     "duration": 0.083138,
     "end_time": "2020-10-22T23:48:59.068962",
     "exception": false,
     "start_time": "2020-10-22T23:48:58.985824",
     "status": "completed"
    },
    "tags": []
   },
   "outputs": [
    {
     "name": "stdout",
     "output_type": "stream",
     "text": [
      "Value: ['children', 'creativity', 'culture', 'dance', 'education', 'parenting', 'teaching']\n",
      "Type: <class 'str'>\n",
      "\n",
      "\n",
      "Value: ['alternative energy', 'cars', 'climate change', 'culture', 'environment', 'global issues', 'science', 'sustainability', 'technology']\n",
      "Type: <class 'str'>\n",
      "\n",
      "\n"
     ]
    }
   ],
   "source": [
    "# print first few values in the tags column to understand its structure.\n",
    "for i in ted_data['tags'][0:2]:\n",
    "    print(\"Value: {}\".format(i))\n",
    "    print(\"Type: {}\".format(type(i)))\n",
    "    print(\"\\n\")"
   ]
  },
  {
   "cell_type": "markdown",
   "metadata": {
    "papermill": {
     "duration": 0.068384,
     "end_time": "2020-10-22T23:48:59.206479",
     "exception": false,
     "start_time": "2020-10-22T23:48:59.138095",
     "status": "completed"
    },
    "tags": []
   },
   "source": [
    "* Apparently,tags column has a list but shows up as str type.\n",
    "* Lets convert it to list type first."
   ]
  },
  {
   "cell_type": "code",
   "execution_count": 24,
   "metadata": {
    "papermill": {
     "duration": 0.244588,
     "end_time": "2020-10-22T23:48:59.518479",
     "exception": false,
     "start_time": "2020-10-22T23:48:59.273891",
     "status": "completed"
    },
    "tags": []
   },
   "outputs": [],
   "source": [
    "ted_data[\"tags\"] = ted_data[\"tags\"].apply(lambda x: ast.literal_eval(x))"
   ]
  },
  {
   "cell_type": "code",
   "execution_count": 25,
   "metadata": {
    "papermill": {
     "duration": 0.082026,
     "end_time": "2020-10-22T23:48:59.669093",
     "exception": false,
     "start_time": "2020-10-22T23:48:59.587067",
     "status": "completed"
    },
    "tags": []
   },
   "outputs": [
    {
     "name": "stdout",
     "output_type": "stream",
     "text": [
      "Value: ['children', 'creativity', 'culture', 'dance', 'education', 'parenting', 'teaching']\n",
      "Type: <class 'list'>\n",
      "\n",
      "\n",
      "Value: ['alternative energy', 'cars', 'climate change', 'culture', 'environment', 'global issues', 'science', 'sustainability', 'technology']\n",
      "Type: <class 'list'>\n",
      "\n",
      "\n"
     ]
    }
   ],
   "source": [
    "for i in ted_data['tags'][0:2]:\n",
    "    print(\"Value: {}\".format(i))\n",
    "    print(\"Type: {}\".format(type(i)))\n",
    "    print(\"\\n\")"
   ]
  },
  {
   "cell_type": "code",
   "execution_count": 26,
   "metadata": {
    "papermill": {
     "duration": 0.394425,
     "end_time": "2020-10-22T23:49:00.133713",
     "exception": false,
     "start_time": "2020-10-22T23:48:59.739288",
     "status": "completed"
    },
    "tags": []
   },
   "outputs": [
    {
     "data": {
      "text/plain": [
       "technology       0.037956\n",
       "science          0.029602\n",
       "global issues    0.026156\n",
       "culture          0.025373\n",
       "TEDx             0.023494\n",
       "design           0.021823\n",
       "business         0.018169\n",
       "entertainment    0.015610\n",
       "health           0.012321\n",
       "innovation       0.011956\n",
       "Name: tags, dtype: float64"
      ]
     },
     "metadata": {},
     "output_type": "display_data"
    },
    {
     "data": {
      "text/plain": [
       "0.22246006056176254"
      ]
     },
     "metadata": {},
     "output_type": "display_data"
    },
    {
     "data": {
      "image/png": "[encoded data removed]",
      "text/plain": [
       "<Figure size 1080x360 with 1 Axes>"
      ]
     },
     "metadata": {
      "needs_background": "light"
     },
     "output_type": "display_data"
    }
   ],
   "source": [
    "tags = ted_data[\"tags\"].explode().value_counts().head(10)\n",
    "display(ted_data[\"tags\"].explode().value_counts(normalize=True).head(10))\n",
    "display(ted_data[\"tags\"].explode().value_counts(normalize=True).head(10).sum())\n",
    "plt.figure(figsize=(15,5))\n",
    "ax = sns.barplot(x=tags.index, y=tags.values)\n",
    "ax.set_title(\"Top tags\", pad=10, fontdict={'fontsize': 20})\n",
    "plt.show()"
   ]
  },
  {
   "cell_type": "markdown",
   "metadata": {
    "papermill": {
     "duration": 0.070015,
     "end_time": "2020-10-22T23:49:00.274953",
     "exception": false,
     "start_time": "2020-10-22T23:49:00.204938",
     "status": "completed"
    },
    "tags": []
   },
   "source": [
    "* So, most talks seem to be coming __Technology__ category, followed by __Science__, __Global issues__ and __Culture__.\n",
    "* Still, top 10 tags seem to account for only 22% of the total categories."
   ]
  },
  {
   "cell_type": "markdown",
   "metadata": {
    "papermill": {
     "duration": 0.070276,
     "end_time": "2020-10-22T23:49:00.415421",
     "exception": false,
     "start_time": "2020-10-22T23:49:00.345145",
     "status": "completed"
    },
    "tags": []
   },
   "source": [
    "* Lot of interesting insights can be derived from ted_data, outside of what is done here.\n",
    "* TED is a very interesting and informative platform and looking at the way it has evloved over years, it will be exciting to see how it grows in future.\n",
    "* I will be closing this analysis here. Thanks!\n"
   ]
  },
  {
   "cell_type": "code",
   "execution_count": null,
   "metadata": {
    "papermill": {
     "duration": 0.069986,
     "end_time": "2020-10-22T23:49:00.557660",
     "exception": false,
     "start_time": "2020-10-22T23:49:00.487674",
     "status": "completed"
    },
    "tags": []
   },
   "outputs": [],
   "source": []
  }
 ],
 "metadata": {
  "kernelspec": {
   "display_name": "Python 3",
   "language": "python",
   "name": "python3"
  },
  "language_info": {
   "codemirror_mode": {
    "name": "ipython",
    "version": 3
   },
   "file_extension": ".py",
   "mimetype": "text/x-python",
   "name": "python",
   "nbconvert_exporter": "python",
   "pygments_lexer": "ipython3",
   "version": "3.7.6"
  },
  "papermill": {
   "duration": 44.247191,
   "end_time": "2020-10-22T23:49:01.284228",
   "environment_variables": {},
   "exception": null,
   "input_path": "__notebook__.ipynb",
   "output_path": "__notebook__.ipynb",
   "parameters": {},
   "start_time": "2020-10-22T23:48:17.037037",
   "version": "1.2.1"
  }
 },
 "nbformat": 4,
 "nbformat_minor": 4
}
